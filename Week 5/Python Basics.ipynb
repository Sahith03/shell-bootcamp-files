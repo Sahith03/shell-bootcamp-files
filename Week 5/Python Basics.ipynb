{
 "cells": [
  {
   "cell_type": "code",
   "execution_count": 1,
   "id": "85258537",
   "metadata": {},
   "outputs": [
    {
     "name": "stdout",
     "output_type": "stream",
     "text": [
      "Hello, World!\n"
     ]
    }
   ],
   "source": [
    "print(\"Hello, World!\")"
   ]
  },
  {
   "cell_type": "code",
   "execution_count": 2,
   "id": "b840a203",
   "metadata": {},
   "outputs": [
    {
     "name": "stdout",
     "output_type": "stream",
     "text": [
      "Number 5 is greather than number 2.\n"
     ]
    }
   ],
   "source": [
    "#Using if statement to check condition\n",
    "if 5 > 3:\n",
    "#printing a message after checking condition\n",
    "    print(\"Number 5 is greather than number 2.\")\n",
    "    print(\"Greater Smaller\")"
   ]
  },
  {
   "cell_type": "code",
   "execution_count": 1,
   "id": "592e79dc",
   "metadata": {},
   "outputs": [],
   "source": [
    "# Group 3\n",
    "# Scenario: Sales Management System\n",
    "\n",
    "# You are tasked with building a command-line sales management system in Python. The program should allow users to:\n",
    "\n",
    "# Add a new product.\n",
    "# List all products.\n",
    "# Add a new customer.\n",
    "# List all customers.\n",
    "# Create a new sales order.\n",
    "# List all sales orders.\n",
    "# Quit the program."
   ]
  },
  {
   "cell_type": "code",
   "execution_count": 2,
   "id": "10c1b9fe",
   "metadata": {},
   "outputs": [],
   "source": [
    "# Initialize empty lists for products, customers, and sales orders\n",
    "products = []\n",
    "customers = []\n",
    "sales_orders = []\n"
   ]
  },
  {
   "cell_type": "code",
   "execution_count": 3,
   "id": "fa94ea98",
   "metadata": {},
   "outputs": [],
   "source": [
    "# Function to add a new product\n",
    "def add_product():\n",
    "    name = input(\"Enter product name: \")\n",
    "    price = float(input(\"Enter product price: \"))\n",
    "    products.append({\"name\": name, \"price\": price})\n",
    "    print(\"Product added successfully!\")\n",
    "\n",
    "# Function to list all products\n",
    "def list_products():\n",
    "    print(\"List of Products:\")\n",
    "    for idx, product in enumerate(products, start=1):\n",
    "        print(f\"{idx}. {product['name']} - ${product['price']}\")\n"
   ]
  },
  {
   "cell_type": "code",
   "execution_count": 4,
   "id": "a7cd4ccd",
   "metadata": {},
   "outputs": [],
   "source": [
    "# Function to add a new customer\n",
    "def add_customer():\n",
    "    name = input(\"Enter customer name: \")\n",
    "    customers.append({\"name\": name})\n",
    "    print(\"Customer added successfully!\")\n",
    "\n",
    "# Function to list all customers\n",
    "def list_customers():\n",
    "    print(\"List of Customers:\")\n",
    "    for idx, customer in enumerate(customers, start=1):\n",
    "        print(f\"{idx}. {customer['name']}\")"
   ]
  },
  {
   "cell_type": "code",
   "execution_count": 5,
   "id": "8575b657",
   "metadata": {},
   "outputs": [],
   "source": [
    "# Function to create a new sales order\n",
    "def create_sales_order():\n",
    "    customer_idx = int(input(\"Enter customer number for the sales order: \"))\n",
    "    if 1 <= customer_idx <= len(customers):\n",
    "        customer = customers[customer_idx - 1]\n",
    "        order = {\"customer\": customer, \"items\": []}\n",
    "\n",
    "        while True:\n",
    "            product_idx = int(input(\"Enter product number (0 to finish): \"))\n",
    "            if product_idx == 0:\n",
    "                break\n",
    "            elif 1 <= product_idx <= len(products):\n",
    "                product = products[product_idx - 1]\n",
    "                order[\"items\"].append(product)\n",
    "            else:\n",
    "                print(\"Invalid product number!\")\n",
    "\n",
    "        sales_orders.append(order)\n",
    "        print(\"Sales order created successfully!\")\n",
    "\n",
    "    else:\n",
    "        print(\"Invalid customer number!\")\n",
    "\n",
    "# Function to list all sales orders\n",
    "def list_sales_orders():\n",
    "    print(\"List of Sales Orders:\")\n",
    "    for idx, order in enumerate(sales_orders, start=1):\n",
    "        customer_name = order[\"customer\"][\"name\"]\n",
    "        total_price = sum(item[\"price\"] for item in order[\"items\"])\n",
    "        print(f\"{idx}. Customer: {customer_name}, Total Price: ${total_price}\")\n"
   ]
  },
  {
   "cell_type": "code",
   "execution_count": 7,
   "id": "7728748a",
   "metadata": {},
   "outputs": [
    {
     "name": "stdout",
     "output_type": "stream",
     "text": [
      "\n",
      "Sales Management System Menu:\n",
      "1. Add a new product\n",
      "2. List all products\n",
      "3. Add a new customer\n",
      "4. List all customers\n",
      "5. Create a new sales order\n",
      "6. List all sales orders\n",
      "7. Quit\n",
      "Enter your choice: 1\n",
      "Enter product name: Laptop\n",
      "Enter product price: 50000\n",
      "Product added successfully!\n",
      "\n",
      "Sales Management System Menu:\n",
      "1. Add a new product\n",
      "2. List all products\n",
      "3. Add a new customer\n",
      "4. List all customers\n",
      "5. Create a new sales order\n",
      "6. List all sales orders\n",
      "7. Quit\n",
      "Enter your choice: 1\n",
      "Enter product name: Headphones\n",
      "Enter product price: 3000\n",
      "Product added successfully!\n",
      "\n",
      "Sales Management System Menu:\n",
      "1. Add a new product\n",
      "2. List all products\n",
      "3. Add a new customer\n",
      "4. List all customers\n",
      "5. Create a new sales order\n",
      "6. List all sales orders\n",
      "7. Quit\n",
      "Enter your choice: 5\n",
      "Enter customer number for the sales order: 1\n",
      "Enter product number (0 to finish): 2\n",
      "Enter product number (0 to finish): 3\n",
      "Enter product number (0 to finish): 0\n",
      "Sales order created successfully!\n",
      "\n",
      "Sales Management System Menu:\n",
      "1. Add a new product\n",
      "2. List all products\n",
      "3. Add a new customer\n",
      "4. List all customers\n",
      "5. Create a new sales order\n",
      "6. List all sales orders\n",
      "7. Quit\n",
      "Enter your choice: 6\n",
      "List of Sales Orders:\n",
      "1. Customer: Sahith, Total Price: $10000.0\n",
      "2. Customer: Sahith, Total Price: $53000.0\n",
      "\n",
      "Sales Management System Menu:\n",
      "1. Add a new product\n",
      "2. List all products\n",
      "3. Add a new customer\n",
      "4. List all customers\n",
      "5. Create a new sales order\n",
      "6. List all sales orders\n",
      "7. Quit\n",
      "Enter your choice: 5\n",
      "Enter customer number for the sales order: 1\n",
      "Enter product number (0 to finish): 0\n",
      "Sales order created successfully!\n",
      "\n",
      "Sales Management System Menu:\n",
      "1. Add a new product\n",
      "2. List all products\n",
      "3. Add a new customer\n",
      "4. List all customers\n",
      "5. Create a new sales order\n",
      "6. List all sales orders\n",
      "7. Quit\n",
      "Enter your choice: 6\n",
      "List of Sales Orders:\n",
      "1. Customer: Sahith, Total Price: $10000.0\n",
      "2. Customer: Sahith, Total Price: $53000.0\n",
      "3. Customer: Sahith, Total Price: $0\n",
      "\n",
      "Sales Management System Menu:\n",
      "1. Add a new product\n",
      "2. List all products\n",
      "3. Add a new customer\n",
      "4. List all customers\n",
      "5. Create a new sales order\n",
      "6. List all sales orders\n",
      "7. Quit\n",
      "Enter your choice: 3\n",
      "Enter customer name: Avinash\n",
      "Customer added successfully!\n",
      "\n",
      "Sales Management System Menu:\n",
      "1. Add a new product\n",
      "2. List all products\n",
      "3. Add a new customer\n",
      "4. List all customers\n",
      "5. Create a new sales order\n",
      "6. List all sales orders\n",
      "7. Quit\n",
      "Enter your choice: 5\n",
      "Enter customer number for the sales order: 2\n",
      "Enter product number (0 to finish): 2\n",
      "Enter product number (0 to finish): 1\n",
      "Enter product number (0 to finish): 0\n",
      "Sales order created successfully!\n",
      "\n",
      "Sales Management System Menu:\n",
      "1. Add a new product\n",
      "2. List all products\n",
      "3. Add a new customer\n",
      "4. List all customers\n",
      "5. Create a new sales order\n",
      "6. List all sales orders\n",
      "7. Quit\n",
      "Enter your choice: 6\n",
      "List of Sales Orders:\n",
      "1. Customer: Sahith, Total Price: $10000.0\n",
      "2. Customer: Sahith, Total Price: $53000.0\n",
      "3. Customer: Sahith, Total Price: $0\n",
      "4. Customer: Avinash, Total Price: $60000.0\n",
      "\n",
      "Sales Management System Menu:\n",
      "1. Add a new product\n",
      "2. List all products\n",
      "3. Add a new customer\n",
      "4. List all customers\n",
      "5. Create a new sales order\n",
      "6. List all sales orders\n",
      "7. Quit\n",
      "Enter your choice: 7\n",
      "Exiting the program. Goodbye!\n"
     ]
    }
   ],
   "source": [
    "# Main program loop\n",
    "while True:\n",
    "    print(\"\\nSales Management System Menu:\")\n",
    "    print(\"1. Add a new product\")\n",
    "    print(\"2. List all products\")\n",
    "    print(\"3. Add a new customer\")\n",
    "    print(\"4. List all customers\")\n",
    "    print(\"5. Create a new sales order\")\n",
    "    print(\"6. List all sales orders\")\n",
    "    print(\"7. Quit\")\n",
    "\n",
    "    choice = input(\"Enter your choice: \")\n",
    "\n",
    "    if choice == \"1\":\n",
    "        add_product()\n",
    "    elif choice == \"2\":\n",
    "        list_products()\n",
    "    elif choice == \"3\":\n",
    "        add_customer()\n",
    "    elif choice == \"4\":\n",
    "        list_customers()\n",
    "    elif choice == \"5\":\n",
    "        create_sales_order()\n",
    "    elif choice == \"6\":\n",
    "        list_sales_orders()\n",
    "    elif choice == \"7\":\n",
    "        print(\"Exiting the program. Goodbye!\")\n",
    "        break\n",
    "    else:\n",
    "        print(\"Invalid choice. Please try again.\")"
   ]
  },
  {
   "cell_type": "code",
   "execution_count": 1,
   "id": "eb1282db",
   "metadata": {},
   "outputs": [
    {
     "name": "stdout",
     "output_type": "stream",
     "text": [
      "The costly product in the collection is: Speaker\n"
     ]
    }
   ],
   "source": [
    "def my_function(*products):\n",
    "    print(\"The costly product in the collection is: \"+products[3])\n",
    "my_function(\"Mouse\",\"Keyboard\",\"Laptop\",\"Speaker\",\"Projector\")"
   ]
  },
  {
   "cell_type": "code",
   "execution_count": 2,
   "id": "cd9c95cd",
   "metadata": {},
   "outputs": [
    {
     "name": "stdout",
     "output_type": "stream",
     "text": [
      "The hardware product name is: Mouse\n"
     ]
    }
   ],
   "source": [
    "def my_func(**product):\n",
    "    print(\"The hardware product name is: \"+product[\"productname\"])\n",
    "my_func(productname=\"Mouse\",brandname=\"Logitech\")"
   ]
  },
  {
   "cell_type": "code",
   "execution_count": 3,
   "id": "73a6cd0f",
   "metadata": {},
   "outputs": [
    {
     "name": "stdout",
     "output_type": "stream",
     "text": [
      "Hi, I am:  Gyanesh\n",
      "My age is:  37\n",
      "Hi, I am:  Gyanesh\n",
      "My age is:  37\n"
     ]
    }
   ],
   "source": [
    "#Keyword only arguments\n",
    "def nameAge(name, age):\n",
    "    print(\"Hi, I am: \", name)\n",
    "    print(\"My age is: \", age)\n",
    "#Following the order of arguments\n",
    "nameAge(name=\"Gyanesh\",age=37)\n",
    "#Changing the order of arguments\n",
    "nameAge(age=37, name=\"Gyanesh\")"
   ]
  },
  {
   "cell_type": "code",
   "execution_count": 4,
   "id": "6c9de33b",
   "metadata": {},
   "outputs": [
    {
     "name": "stdout",
     "output_type": "stream",
     "text": [
      "Case-1:\n",
      "Hi, I am:  John\n",
      "My age is:  20\n",
      "Case-2:\n",
      "Hi, I am:  20\n",
      "My age is:  John\n"
     ]
    }
   ],
   "source": [
    "#Positional parameter demo\n",
    "def nameAge(name, age):\n",
    "    print(\"Hi, I am: \",name)\n",
    "    print(\"My age is: \",age)\n",
    "print(\"Case-1:\")\n",
    "nameAge(\"John\",20)\n",
    "print(\"Case-2:\")\n",
    "nameAge(20, \"John\")"
   ]
  },
  {
   "cell_type": "code",
   "execution_count": 5,
   "id": "5e8ffe73",
   "metadata": {},
   "outputs": [
    {
     "name": "stdout",
     "output_type": "stream",
     "text": [
      "Used positional args 10\n",
      "Used positional args -10\n"
     ]
    }
   ],
   "source": [
    "def minus(firstnum,secondnum):\n",
    "    return firstnum-secondnum\n",
    "firstnum,secondnum=20,10\n",
    "result1=minus(firstnum,secondnum)\n",
    "print(\"Used positional args\", result1)\n",
    "result2=minus(secondnum,firstnum)\n",
    "print(\"Used positional args\", result2)"
   ]
  },
  {
   "cell_type": "code",
   "execution_count": 7,
   "id": "c1b8a566",
   "metadata": {},
   "outputs": [
    {
     "name": "stdout",
     "output_type": "stream",
     "text": [
      "John\n",
      "36\n",
      "<__main__.Person object at 0x7fe3deef14d0>\n"
     ]
    }
   ],
   "source": [
    "#Using a class named Person\n",
    "class Person:\n",
    "    def __init__(self, name, age):\n",
    "        self.name = name\n",
    "        self.age = age\n",
    "\n",
    "p1 = Person(\"John\", 36)\n",
    "\n",
    "print(p1.name)\n",
    "print(p1.age)\n",
    "print(p1)"
   ]
  },
  {
   "cell_type": "code",
   "execution_count": 10,
   "id": "3fc729ea",
   "metadata": {},
   "outputs": [
    {
     "name": "stdout",
     "output_type": "stream",
     "text": [
      "John(36)\n"
     ]
    }
   ],
   "source": [
    "#Using a class named Person\n",
    "class Person:\n",
    "    def __init__(self, name, age):\n",
    "        self.name = name\n",
    "        self.age = age\n",
    "    def __str__(self):\n",
    "        return f\"{self.name}({self.age})\"\n",
    "\n",
    "p1 = Person(\"John\", 36)\n",
    "\n",
    "print(p1)"
   ]
  },
  {
   "cell_type": "code",
   "execution_count": 11,
   "id": "aba903cb",
   "metadata": {},
   "outputs": [
    {
     "name": "stdout",
     "output_type": "stream",
     "text": [
      "Hello, my name is John. Age is: 36\n"
     ]
    }
   ],
   "source": [
    "class Person:\n",
    "    def __init__(self, name, age):\n",
    "        self.name = name\n",
    "        self.age = age\n",
    "\n",
    "    def myfunc(self):\n",
    "        print(\"Hello, my name is \" + self.name+\". Age is: \"+str(self.age))\n",
    "\n",
    "p1 = Person(\"John\", 36)\n",
    "p1.myfunc()"
   ]
  },
  {
   "cell_type": "code",
   "execution_count": 13,
   "id": "8e5d659f",
   "metadata": {},
   "outputs": [
    {
     "name": "stdout",
     "output_type": "stream",
     "text": [
      "Hello, my name is John. Age is: 36\n"
     ]
    }
   ],
   "source": [
    "class Person:\n",
    "    def __init__(myobj, name, age):\n",
    "        myobj.name = name\n",
    "        myobj.age = age\n",
    "\n",
    "    def myfunc(abc):\n",
    "        print(\"Hello, my name is \" + abc.name+\". Age is: \"+str(abc.age))\n",
    "\n",
    "p1 = Person(\"John\", 36)\n",
    "p1.myfunc()"
   ]
  },
  {
   "cell_type": "code",
   "execution_count": 14,
   "id": "a7e0396d",
   "metadata": {},
   "outputs": [
    {
     "name": "stdout",
     "output_type": "stream",
     "text": [
      "6\n",
      "Capturing the item from the list\n",
      "speaker\n",
      "Printing the index value\n",
      "Printer\n",
      "Returning range of indexes values\n",
      "['speaker', 'Laptop', 'Desktop']\n",
      "Returning data by leaving out start value.\n",
      "['mouse', 'keyboard', 'speaker', 'Laptop']\n",
      "Returning data by leaving out end value.\n",
      "['speaker', 'Laptop', 'Desktop', 'Printer']\n",
      "Returning data after sorting\n",
      "['Desktop', 'Laptop', 'Printer', 'keyboard', 'mouse', 'speaker']\n",
      "Returning data after sorting in descending order\n",
      "['speaker', 'mouse', 'keyboard', 'Printer', 'Laptop', 'Desktop']\n",
      "Returning data after sorting using str.lower\n",
      "['Desktop', 'keyboard', 'Laptop', 'mouse', 'Printer', 'speaker']\n",
      "Adding new element at the end of the list.\n",
      "['Desktop', 'keyboard', 'Laptop', 'mouse', 'Printer', 'Projector', 'speaker']\n",
      "Removing value from the list.\n",
      "['Desktop', 'keyboard', 'Laptop', 'mouse', 'Printer', 'speaker']\n"
     ]
    }
   ],
   "source": [
    "thislist=[\"mouse\",\"keyboard\",\"speaker\",\"Laptop\",\"Desktop\",\"Printer\"]\n",
    "#length\n",
    "print(len(thislist))\n",
    "#capturing index value\n",
    "print(\"Capturing the item from the list\")\n",
    "print(thislist[2])\n",
    "#Negative indexing\n",
    "print(\"Printing the index value\")\n",
    "print(thislist[-1])\n",
    "#Returning the range of indexes\n",
    "print(\"Returning range of indexes values\")\n",
    "print(thislist[2:5])\n",
    "#Leaving out start value\n",
    "print(\"Returning data by leaving out start value.\")\n",
    "print(thislist[:4])\n",
    "#Leaving out end value\n",
    "print(\"Returning data by leaving out end value.\")\n",
    "print(thislist[2:])\n",
    "#sorting and returning list items\n",
    "print(\"Returning data after sorting\")\n",
    "thislist.sort()\n",
    "print(thislist)\n",
    "#sorting and returning list items in descending order\n",
    "print(\"Returning data after sorting in descending order\")\n",
    "thislist.sort(reverse=True)\n",
    "print(thislist)\n",
    "#sorting and returning list items using str.lower\n",
    "print(\"Returning data after sorting using str.lower\")\n",
    "thislist.sort(key=str.lower)\n",
    "print(thislist)\n",
    "#Adding new element at the end of the list\n",
    "print(\"Adding new element at the end of the list.\")\n",
    "thislist.append(\"Projector\")\n",
    "thislist.sort(key=str.lower)\n",
    "print(thislist)\n",
    "#Removing any element from the list\n",
    "print(\"Removing value from the list.\")\n",
    "thislist.remove(\"Projector\")\n",
    "thislist.sort(key=str.lower)\n",
    "print(thislist)"
   ]
  },
  {
   "cell_type": "code",
   "execution_count": 15,
   "id": "7cc5ccaa",
   "metadata": {},
   "outputs": [
    {
     "name": "stdout",
     "output_type": "stream",
     "text": [
      "(('John', 'Doe'), ('Oliver', 'Queen'), ('Malcolm', 'Merlin'), ('Barry', 'Allen'))\n"
     ]
    }
   ],
   "source": [
    "#using zip() function\n",
    "a=(\"John\",\"Oliver\",\"Malcolm\",\"Barry\")\n",
    "b=(\"Doe\",\"Queen\",\"Merlin\",\"Allen\",\"XYZ\")\n",
    "x=zip(a,b)\n",
    "print(tuple(x))"
   ]
  },
  {
   "cell_type": "code",
   "execution_count": 16,
   "id": "dd0f4069",
   "metadata": {},
   "outputs": [
    {
     "name": "stdout",
     "output_type": "stream",
     "text": [
      "Return type: <class 'enumerate'>\n",
      "[(0, 'eat'), (1, 'sleep'), (2, 'repeat')]\n",
      "[(2, 'g'), (3, 'e'), (4, 'e'), (5, 'k')]\n"
     ]
    }
   ],
   "source": [
    "#using enumerate() function\n",
    "l1=[\"eat\",\"sleep\",\"repeat\"]\n",
    "s1=\"geek\"\n",
    "\n",
    "#creating enumerate objects\n",
    "obj1=enumerate(l1)\n",
    "obj2=enumerate(s1)\n",
    "\n",
    "print(\"Return type:\", type(obj1))\n",
    "print(list(enumerate(l1)))\n",
    "\n",
    "#changing start index to 2 from 0\n",
    "print(list(enumerate(s1,2)))"
   ]
  },
  {
   "cell_type": "code",
   "execution_count": 1,
   "id": "6e9e4031",
   "metadata": {},
   "outputs": [
    {
     "name": "stdout",
     "output_type": "stream",
     "text": [
      "Even number\n"
     ]
    }
   ],
   "source": [
    "#lambda function - calc\n",
    "calc = lambda num: \"Even number\" if num % 2 == 0 else \"Odd number\"\n",
    "print(calc(20))"
   ]
  },
  {
   "cell_type": "code",
   "execution_count": null,
   "id": "1a35e84d",
   "metadata": {},
   "outputs": [],
   "source": []
  }
 ],
 "metadata": {
  "kernelspec": {
   "display_name": "Python 3 (ipykernel)",
   "language": "python",
   "name": "python3"
  },
  "language_info": {
   "codemirror_mode": {
    "name": "ipython",
    "version": 3
   },
   "file_extension": ".py",
   "mimetype": "text/x-python",
   "name": "python",
   "nbconvert_exporter": "python",
   "pygments_lexer": "ipython3",
   "version": "3.11.4"
  }
 },
 "nbformat": 4,
 "nbformat_minor": 5
}
