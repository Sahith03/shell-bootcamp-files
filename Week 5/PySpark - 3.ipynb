{
 "cells": [
  {
   "cell_type": "code",
   "execution_count": 1,
   "id": "4b730906",
   "metadata": {},
   "outputs": [],
   "source": [
    "import findspark"
   ]
  },
  {
   "cell_type": "code",
   "execution_count": 2,
   "id": "293a5915",
   "metadata": {},
   "outputs": [],
   "source": [
    "# Initializing PySpark by finding the location\n",
    "# findspark.init('') also works after restarting\n",
    "findspark.init('/opt/anaconda3/lib/python3.11/site-packages/pyspark/')"
   ]
  },
  {
   "cell_type": "code",
   "execution_count": 3,
   "id": "7bdb01ea",
   "metadata": {},
   "outputs": [
    {
     "name": "stderr",
     "output_type": "stream",
     "text": [
      "Setting default log level to \"WARN\".\n",
      "To adjust logging level use sc.setLogLevel(newLevel). For SparkR, use setLogLevel(newLevel).\n",
      "23/09/25 05:55:37 WARN NativeCodeLoader: Unable to load native-hadoop library for your platform... using builtin-java classes where applicable\n",
      "23/09/25 05:55:38 WARN Utils: Service 'SparkUI' could not bind on port 4040. Attempting port 4041.\n"
     ]
    }
   ],
   "source": [
    "from pyspark.sql import SparkSession\n",
    "\n",
    "#Initialize SparkSession\n",
    "spark = SparkSession.builder.appName(\"WordCount\").getOrCreate()"
   ]
  },
  {
   "cell_type": "code",
   "execution_count": 4,
   "id": "de07d344",
   "metadata": {},
   "outputs": [],
   "source": [
    "from pyspark.sql.functions import *"
   ]
  },
  {
   "cell_type": "code",
   "execution_count": 5,
   "id": "7e952109",
   "metadata": {},
   "outputs": [],
   "source": [
    "test_df = [(\"James\",\"Sales\",\"NY\",90000,34,10000),\n",
    "    (\"Michael\",\"Sales\",\"NY\",86000,56,20000),\n",
    "    (\"Robert\",\"Sales\",\"CA\",81000,30,23000),\n",
    "    (\"Maria\",\"Finance\",\"CA\",90000,24,23000),\n",
    "    (\"Raman\",\"Finance\",\"CA\",99000,40,24000),\n",
    "    (\"Scott\",\"Finance\",\"NY\",83000,36,19000),\n",
    "    (\"Jen\",\"Finance\",\"NY\",79000,53,15000),\n",
    "    (\"Jeff\",\"Marketing\",\"CA\",80000,25,18000),\n",
    "    (\"Kumar\",\"Marketing\",\"NY\",91000,50,21000)\n",
    "  ]"
   ]
  },
  {
   "cell_type": "code",
   "execution_count": 6,
   "id": "31603fd0",
   "metadata": {},
   "outputs": [],
   "source": [
    "ud_scehma = [\"employee_name\",\"department\",\"state\",\"salary\",\"age\",\"bonus\"]"
   ]
  },
  {
   "cell_type": "code",
   "execution_count": 7,
   "id": "0a488d3d",
   "metadata": {},
   "outputs": [],
   "source": [
    "df = spark.createDataFrame(data=test_df,schema = ud_scehma)"
   ]
  },
  {
   "cell_type": "code",
   "execution_count": 8,
   "id": "4c4b93bb",
   "metadata": {},
   "outputs": [
    {
     "name": "stderr",
     "output_type": "stream",
     "text": [
      "                                                                                \r"
     ]
    },
    {
     "data": {
      "text/plain": [
       "9"
      ]
     },
     "execution_count": 8,
     "metadata": {},
     "output_type": "execute_result"
    }
   ],
   "source": [
    "df.cache().count()"
   ]
  },
  {
   "cell_type": "code",
   "execution_count": 9,
   "id": "bf2379d7",
   "metadata": {},
   "outputs": [],
   "source": [
    "from pyspark import StorageLevel"
   ]
  },
  {
   "cell_type": "code",
   "execution_count": 10,
   "id": "90a89d39",
   "metadata": {},
   "outputs": [],
   "source": [
    "test = StorageLevel(useDisk=False,useMemory=True,useOffHeap=False,deserialized=False,replication=2)"
   ]
  },
  {
   "cell_type": "code",
   "execution_count": 11,
   "id": "3b2b652d",
   "metadata": {},
   "outputs": [
    {
     "name": "stderr",
     "output_type": "stream",
     "text": [
      "23/09/25 05:55:51 WARN CacheManager: Asked to cache already cached data.\n"
     ]
    },
    {
     "data": {
      "text/plain": [
       "DataFrame[employee_name: string, department: string, state: string, salary: bigint, age: bigint, bonus: bigint]"
      ]
     },
     "execution_count": 11,
     "metadata": {},
     "output_type": "execute_result"
    }
   ],
   "source": [
    "df.persist(StorageLevel.MEMORY_AND_DISK)"
   ]
  },
  {
   "cell_type": "code",
   "execution_count": 12,
   "id": "3473f415",
   "metadata": {},
   "outputs": [
    {
     "data": {
      "text/plain": [
       "DataFrame[employee_name: string, department: string, state: string, salary: bigint, age: bigint, bonus: bigint]"
      ]
     },
     "execution_count": 12,
     "metadata": {},
     "output_type": "execute_result"
    }
   ],
   "source": [
    "df.unpersist()"
   ]
  },
  {
   "cell_type": "code",
   "execution_count": 13,
   "id": "4911b93c",
   "metadata": {},
   "outputs": [
    {
     "data": {
      "text/plain": [
       "DataFrame[employee_name: string, department: string, state: string, salary: bigint, age: bigint, bonus: bigint]"
      ]
     },
     "execution_count": 13,
     "metadata": {},
     "output_type": "execute_result"
    }
   ],
   "source": [
    "df.persist(storageLevel = test)"
   ]
  },
  {
   "cell_type": "code",
   "execution_count": 14,
   "id": "5e261f2f",
   "metadata": {},
   "outputs": [
    {
     "name": "stderr",
     "output_type": "stream",
     "text": [
      "23/09/25 05:55:52 WARN RandomBlockReplicationPolicy: Expecting 1 replicas with only 0 peer/s.\n",
      "23/09/25 05:55:52 WARN BlockManager: Block rdd_18_0 replicated to only 0 peer(s) instead of 1 peers\n",
      "23/09/25 05:55:53 WARN RandomBlockReplicationPolicy: Expecting 1 replicas with only 0 peer/s.\n",
      "23/09/25 05:55:53 WARN BlockManager: Block rdd_18_1 replicated to only 0 peer(s) instead of 1 peers\n",
      "[Stage 3:===========================================================(2 + 0) / 2]\r"
     ]
    },
    {
     "name": "stdout",
     "output_type": "stream",
     "text": [
      "+-----+-----------+\n",
      "|state|max(salary)|\n",
      "+-----+-----------+\n",
      "|   CA|      99000|\n",
      "|   NY|      91000|\n",
      "+-----+-----------+\n",
      "\n"
     ]
    },
    {
     "name": "stderr",
     "output_type": "stream",
     "text": [
      "\r",
      "                                                                                \r"
     ]
    }
   ],
   "source": [
    "df.groupBy('state').max(\"salary\").alias(\"max_sal_by_state\").show()"
   ]
  },
  {
   "cell_type": "code",
   "execution_count": 15,
   "id": "a4d981e2",
   "metadata": {},
   "outputs": [
    {
     "name": "stdout",
     "output_type": "stream",
     "text": [
      "+----------+-----+----------+----------+\n",
      "|department|state|sum_salary|avg_salary|\n",
      "+----------+-----+----------+----------+\n",
      "|     Sales|   CA|     81000|   81000.0|\n",
      "|   Finance|   CA|    189000|   94500.0|\n",
      "|     Sales|   NY|    176000|   88000.0|\n",
      "|   Finance|   NY|    162000|   81000.0|\n",
      "| Marketing|   NY|     91000|   91000.0|\n",
      "+----------+-----+----------+----------+\n",
      "\n"
     ]
    }
   ],
   "source": [
    "df.groupBy(\"department\",\"state\").agg(sum(\"salary\").alias(\"sum_salary\"),avg(\"salary\").alias(\"avg_salary\")).where(col(\"avg_salary\")>80000).show()"
   ]
  },
  {
   "cell_type": "code",
   "execution_count": 16,
   "id": "3ad6e956",
   "metadata": {},
   "outputs": [],
   "source": [
    "df.createOrReplaceTempView(\"ida\")"
   ]
  },
  {
   "cell_type": "code",
   "execution_count": 17,
   "id": "3d02f922",
   "metadata": {},
   "outputs": [
    {
     "data": {
      "text/plain": [
       "DataFrame[employee_name: string, department: string, state: string, salary: bigint, age: bigint, bonus: bigint]"
      ]
     },
     "execution_count": 17,
     "metadata": {},
     "output_type": "execute_result"
    }
   ],
   "source": [
    "spark.sql(\"select * FROM ida\")"
   ]
  },
  {
   "cell_type": "code",
   "execution_count": 18,
   "id": "64c5c065",
   "metadata": {},
   "outputs": [
    {
     "data": {
      "text/plain": [
       "DataFrame[]"
      ]
     },
     "execution_count": 18,
     "metadata": {},
     "output_type": "execute_result"
    }
   ],
   "source": [
    "spark.sql(\"CREATE DATABASE idashell\")"
   ]
  },
  {
   "cell_type": "code",
   "execution_count": 19,
   "id": "4f6b6e9b",
   "metadata": {},
   "outputs": [
    {
     "data": {
      "text/plain": [
       "DataFrame[]"
      ]
     },
     "execution_count": 19,
     "metadata": {},
     "output_type": "execute_result"
    }
   ],
   "source": [
    "spark.sql(\"use idashell\")"
   ]
  },
  {
   "cell_type": "code",
   "execution_count": 20,
   "id": "02ded456",
   "metadata": {},
   "outputs": [
    {
     "ename": "SparkRuntimeException",
     "evalue": "[LOCATION_ALREADY_EXISTS] Cannot name the managed table as `spark_catalog`.`idashell`.`test_tbl`, as its associated location 'file:/home/labuser/spark-warehouse/idashell.db/test_tbl' already exists. Please pick a different table name, or remove the existing location first.",
     "output_type": "error",
     "traceback": [
      "\u001b[0;31m---------------------------------------------------------------------------\u001b[0m",
      "\u001b[0;31mSparkRuntimeException\u001b[0m                     Traceback (most recent call last)",
      "Cell \u001b[0;32mIn[20], line 1\u001b[0m\n\u001b[0;32m----> 1\u001b[0m df\u001b[38;5;241m.\u001b[39mwrite\u001b[38;5;241m.\u001b[39msaveAsTable(\u001b[38;5;124m\"\u001b[39m\u001b[38;5;124mtest_tbl\u001b[39m\u001b[38;5;124m\"\u001b[39m)\n",
      "File \u001b[0;32m/opt/anaconda3/lib/python3.11/site-packages/pyspark/sql/readwriter.py:1521\u001b[0m, in \u001b[0;36mDataFrameWriter.saveAsTable\u001b[0;34m(self, name, format, mode, partitionBy, **options)\u001b[0m\n\u001b[1;32m   1519\u001b[0m \u001b[38;5;28;01mif\u001b[39;00m \u001b[38;5;28mformat\u001b[39m \u001b[38;5;129;01mis\u001b[39;00m \u001b[38;5;129;01mnot\u001b[39;00m \u001b[38;5;28;01mNone\u001b[39;00m:\n\u001b[1;32m   1520\u001b[0m     \u001b[38;5;28mself\u001b[39m\u001b[38;5;241m.\u001b[39mformat(\u001b[38;5;28mformat\u001b[39m)\n\u001b[0;32m-> 1521\u001b[0m \u001b[38;5;28mself\u001b[39m\u001b[38;5;241m.\u001b[39m_jwrite\u001b[38;5;241m.\u001b[39msaveAsTable(name)\n",
      "File \u001b[0;32m/opt/anaconda3/lib/python3.11/site-packages/pyspark/python/lib/py4j-0.10.9.7-src.zip/py4j/java_gateway.py:1322\u001b[0m, in \u001b[0;36mJavaMember.__call__\u001b[0;34m(self, *args)\u001b[0m\n\u001b[1;32m   1316\u001b[0m command \u001b[38;5;241m=\u001b[39m proto\u001b[38;5;241m.\u001b[39mCALL_COMMAND_NAME \u001b[38;5;241m+\u001b[39m\\\n\u001b[1;32m   1317\u001b[0m     \u001b[38;5;28mself\u001b[39m\u001b[38;5;241m.\u001b[39mcommand_header \u001b[38;5;241m+\u001b[39m\\\n\u001b[1;32m   1318\u001b[0m     args_command \u001b[38;5;241m+\u001b[39m\\\n\u001b[1;32m   1319\u001b[0m     proto\u001b[38;5;241m.\u001b[39mEND_COMMAND_PART\n\u001b[1;32m   1321\u001b[0m answer \u001b[38;5;241m=\u001b[39m \u001b[38;5;28mself\u001b[39m\u001b[38;5;241m.\u001b[39mgateway_client\u001b[38;5;241m.\u001b[39msend_command(command)\n\u001b[0;32m-> 1322\u001b[0m return_value \u001b[38;5;241m=\u001b[39m get_return_value(\n\u001b[1;32m   1323\u001b[0m     answer, \u001b[38;5;28mself\u001b[39m\u001b[38;5;241m.\u001b[39mgateway_client, \u001b[38;5;28mself\u001b[39m\u001b[38;5;241m.\u001b[39mtarget_id, \u001b[38;5;28mself\u001b[39m\u001b[38;5;241m.\u001b[39mname)\n\u001b[1;32m   1325\u001b[0m \u001b[38;5;28;01mfor\u001b[39;00m temp_arg \u001b[38;5;129;01min\u001b[39;00m temp_args:\n\u001b[1;32m   1326\u001b[0m     \u001b[38;5;28;01mif\u001b[39;00m \u001b[38;5;28mhasattr\u001b[39m(temp_arg, \u001b[38;5;124m\"\u001b[39m\u001b[38;5;124m_detach\u001b[39m\u001b[38;5;124m\"\u001b[39m):\n",
      "File \u001b[0;32m/opt/anaconda3/lib/python3.11/site-packages/pyspark/errors/exceptions/captured.py:175\u001b[0m, in \u001b[0;36mcapture_sql_exception.<locals>.deco\u001b[0;34m(*a, **kw)\u001b[0m\n\u001b[1;32m    171\u001b[0m converted \u001b[38;5;241m=\u001b[39m convert_exception(e\u001b[38;5;241m.\u001b[39mjava_exception)\n\u001b[1;32m    172\u001b[0m \u001b[38;5;28;01mif\u001b[39;00m \u001b[38;5;129;01mnot\u001b[39;00m \u001b[38;5;28misinstance\u001b[39m(converted, UnknownException):\n\u001b[1;32m    173\u001b[0m     \u001b[38;5;66;03m# Hide where the exception came from that shows a non-Pythonic\u001b[39;00m\n\u001b[1;32m    174\u001b[0m     \u001b[38;5;66;03m# JVM exception message.\u001b[39;00m\n\u001b[0;32m--> 175\u001b[0m     \u001b[38;5;28;01mraise\u001b[39;00m converted \u001b[38;5;28;01mfrom\u001b[39;00m \u001b[38;5;28;01mNone\u001b[39;00m\n\u001b[1;32m    176\u001b[0m \u001b[38;5;28;01melse\u001b[39;00m:\n\u001b[1;32m    177\u001b[0m     \u001b[38;5;28;01mraise\u001b[39;00m\n",
      "\u001b[0;31mSparkRuntimeException\u001b[0m: [LOCATION_ALREADY_EXISTS] Cannot name the managed table as `spark_catalog`.`idashell`.`test_tbl`, as its associated location 'file:/home/labuser/spark-warehouse/idashell.db/test_tbl' already exists. Please pick a different table name, or remove the existing location first."
     ]
    }
   ],
   "source": [
    "df.write.saveAsTable(\"test_tbl\")"
   ]
  },
  {
   "cell_type": "code",
   "execution_count": null,
   "id": "595fde56",
   "metadata": {},
   "outputs": [],
   "source": [
    "test = spark.sql(\"DESCRIBE test_tbl\")"
   ]
  },
  {
   "cell_type": "code",
   "execution_count": null,
   "id": "e8b74ad4",
   "metadata": {},
   "outputs": [],
   "source": [
    "test.show()"
   ]
  },
  {
   "cell_type": "code",
   "execution_count": null,
   "id": "a85ed40e",
   "metadata": {},
   "outputs": [],
   "source": [
    "test1 = spark.sql(\"DESCRIBE EXTENDED test_tbl\")\n",
    "test1.show()"
   ]
  },
  {
   "cell_type": "code",
   "execution_count": null,
   "id": "21212b4b",
   "metadata": {},
   "outputs": [],
   "source": [
    "df.write.option(\"path\",\"/home/labuser/Documents/table_data\").saveAsTable(\"e_emptbl\")"
   ]
  },
  {
   "cell_type": "code",
   "execution_count": null,
   "id": "9c5ee99b",
   "metadata": {},
   "outputs": [],
   "source": [
    "test01 = spark.sql(\"DESCRIBE EXTENDED e_emptbl\")\n",
    "test01.show()"
   ]
  },
  {
   "cell_type": "code",
   "execution_count": null,
   "id": "83ac281b",
   "metadata": {},
   "outputs": [],
   "source": [
    "spark.sql(\"drop table default.emp_tbl\")"
   ]
  },
  {
   "cell_type": "code",
   "execution_count": null,
   "id": "5bc476f7",
   "metadata": {},
   "outputs": [],
   "source": [
    "spark.sql(\"drop table idashell.e_emp_tbl\")"
   ]
  }
 ],
 "metadata": {
  "kernelspec": {
   "display_name": "Python 3 (ipykernel)",
   "language": "python",
   "name": "python3"
  },
  "language_info": {
   "codemirror_mode": {
    "name": "ipython",
    "version": 3
   },
   "file_extension": ".py",
   "mimetype": "text/x-python",
   "name": "python",
   "nbconvert_exporter": "python",
   "pygments_lexer": "ipython3",
   "version": "3.11.4"
  }
 },
 "nbformat": 4,
 "nbformat_minor": 5
}
