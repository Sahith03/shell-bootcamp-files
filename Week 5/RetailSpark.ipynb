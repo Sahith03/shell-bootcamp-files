{
 "cells": [
  {
   "cell_type": "code",
   "execution_count": 1,
   "id": "60331bcd",
   "metadata": {},
   "outputs": [],
   "source": [
    "import findspark"
   ]
  },
  {
   "cell_type": "code",
   "execution_count": 2,
   "id": "5ea1644c",
   "metadata": {},
   "outputs": [],
   "source": [
    "findspark.init('')"
   ]
  },
  {
   "cell_type": "code",
   "execution_count": 3,
   "id": "9eeb3568",
   "metadata": {},
   "outputs": [
    {
     "name": "stderr",
     "output_type": "stream",
     "text": [
      "Setting default log level to \"WARN\".\n",
      "To adjust logging level use sc.setLogLevel(newLevel). For SparkR, use setLogLevel(newLevel).\n",
      "23/09/22 09:16:15 WARN NativeCodeLoader: Unable to load native-hadoop library for your platform... using builtin-java classes where applicable\n",
      "23/09/22 09:16:16 WARN Utils: Service 'SparkUI' could not bind on port 4040. Attempting port 4041.\n"
     ]
    }
   ],
   "source": [
    "from pyspark.sql import SparkSession\n",
    "\n",
    "spark = SparkSession.builder.appName(\"Retail\").getOrCreate()"
   ]
  },
  {
   "cell_type": "code",
   "execution_count": 4,
   "id": "1f54659d",
   "metadata": {},
   "outputs": [],
   "source": [
    "sc = spark.sparkContext"
   ]
  },
  {
   "cell_type": "code",
   "execution_count": 5,
   "id": "c28d36c5",
   "metadata": {},
   "outputs": [
    {
     "name": "stderr",
     "output_type": "stream",
     "text": [
      "[Stage 1:>                                                          (0 + 1) / 1]\r"
     ]
    },
    {
     "name": "stdout",
     "output_type": "stream",
     "text": [
      "root\n",
      " |-- C_CUSTKEY: integer (nullable = true)\n",
      " |-- C_NAME: string (nullable = true)\n",
      " |-- C_ADDRESS: string (nullable = true)\n",
      " |-- C_NATIONKEY: integer (nullable = true)\n",
      " |-- C_PHONE: string (nullable = true)\n",
      " |-- C_ACCTBAL: double (nullable = true)\n",
      " |-- C_MKTSEGMENT: string (nullable = true)\n",
      " |-- C_COMMENT: string (nullable = true)\n",
      "\n"
     ]
    },
    {
     "name": "stderr",
     "output_type": "stream",
     "text": [
      "\r",
      "                                                                                \r"
     ]
    }
   ],
   "source": [
    "# Reading the retail dataset\n",
    "cust = spark.read.option(\"inferSchema\",True).option(\"header\",True).option(\"sep\", '\\t').csv(\"/home/labuser/Downloads/Retail_Dataset/customer.csv\")\n",
    "cust.printSchema()"
   ]
  },
  {
   "cell_type": "code",
   "execution_count": 6,
   "id": "5e50c9fb",
   "metadata": {},
   "outputs": [
    {
     "name": "stderr",
     "output_type": "stream",
     "text": [
      "[Stage 3:=============================>                             (1 + 1) / 2]\r"
     ]
    },
    {
     "name": "stdout",
     "output_type": "stream",
     "text": [
      "root\n",
      " |-- L_ORDERKEY: integer (nullable = true)\n",
      " |-- L_PARTKEY: integer (nullable = true)\n",
      " |-- L_SUPPKEY: integer (nullable = true)\n",
      " |-- L_LINENUMBER: integer (nullable = true)\n",
      " |-- L_QUANTITY: double (nullable = true)\n",
      " |-- L_EXTENDEDPRICE: double (nullable = true)\n",
      " |-- L_DISCOUNT: double (nullable = true)\n",
      " |-- L_TAX: double (nullable = true)\n",
      " |-- L_RETURNFLAG: string (nullable = true)\n",
      " |-- L_LINESTATUS: string (nullable = true)\n",
      " |-- L_SHIPDATE: date (nullable = true)\n",
      " |-- L_COMMITDATE: date (nullable = true)\n",
      " |-- L_RECEIPTDATE: date (nullable = true)\n",
      " |-- L_SHIPINSTRUCT: string (nullable = true)\n",
      " |-- L_SHIPMODE: string (nullable = true)\n",
      " |-- L_COMMENT: string (nullable = true)\n",
      "\n"
     ]
    },
    {
     "name": "stderr",
     "output_type": "stream",
     "text": [
      "\r",
      "                                                                                \r"
     ]
    }
   ],
   "source": [
    "line = spark.read.option(\"inferSchema\",True).option(\"header\",True).option(\"sep\", '\\t').csv(\"/home/labuser/Downloads/Retail_Dataset/lineitem.csv\")\n",
    "line.printSchema()"
   ]
  },
  {
   "cell_type": "code",
   "execution_count": 7,
   "id": "7616add9",
   "metadata": {},
   "outputs": [
    {
     "name": "stdout",
     "output_type": "stream",
     "text": [
      "root\n",
      " |-- N_NATIONKEY: integer (nullable = true)\n",
      " |-- N_NAME: string (nullable = true)\n",
      " |-- N_REGIONKEY: integer (nullable = true)\n",
      " |-- N_COMMENT: string (nullable = true)\n",
      "\n"
     ]
    }
   ],
   "source": [
    "nation = spark.read.option(\"inferSchema\",True).option(\"header\",True).option(\"sep\", '\\t').csv(\"/home/labuser/Downloads/Retail_Dataset/nation.csv\")\n",
    "nation.printSchema()"
   ]
  },
  {
   "cell_type": "code",
   "execution_count": 8,
   "id": "554fc634",
   "metadata": {},
   "outputs": [
    {
     "name": "stdout",
     "output_type": "stream",
     "text": [
      "root\n",
      " |-- O_ORDERKEY: integer (nullable = true)\n",
      " |-- O_CUSTKEY: integer (nullable = true)\n",
      " |-- O_ORDERSTATUS: string (nullable = true)\n",
      " |-- O_TOTALPRICE: double (nullable = true)\n",
      " |-- O_ORDERDATE: date (nullable = true)\n",
      " |-- O_ORDERPRIORITY: string (nullable = true)\n",
      " |-- O_CLERK: string (nullable = true)\n",
      " |-- O_SHIPPRIORITY: integer (nullable = true)\n",
      " |-- O_COMMENT: string (nullable = true)\n",
      "\n"
     ]
    }
   ],
   "source": [
    "orders = spark.read.option(\"inferSchema\",True).option(\"header\",True).option(\"sep\", '\\t').csv(\"/home/labuser/Downloads/Retail_Dataset/orders.csv\")\n",
    "orders.printSchema()"
   ]
  },
  {
   "cell_type": "code",
   "execution_count": 9,
   "id": "3c0d665b",
   "metadata": {},
   "outputs": [
    {
     "name": "stdout",
     "output_type": "stream",
     "text": [
      "root\n",
      " |-- P_PARTKEY: integer (nullable = true)\n",
      " |-- P_NAME: string (nullable = true)\n",
      " |-- P_MFGR: string (nullable = true)\n",
      " |-- P_BRAND: string (nullable = true)\n",
      " |-- P_TYPE: string (nullable = true)\n",
      " |-- P_SIZE: integer (nullable = true)\n",
      " |-- P_CONTAINER: string (nullable = true)\n",
      " |-- P_RETAILPRICE: double (nullable = true)\n",
      " |-- P_COMMENT: string (nullable = true)\n",
      "\n"
     ]
    }
   ],
   "source": [
    "part = spark.read.option(\"inferSchema\",True).option(\"header\",True).option(\"sep\", '\\t').csv(\"/home/labuser/Downloads/Retail_Dataset/part.csv\")\n",
    "part.printSchema()"
   ]
  },
  {
   "cell_type": "code",
   "execution_count": 10,
   "id": "17d4363a",
   "metadata": {},
   "outputs": [
    {
     "name": "stdout",
     "output_type": "stream",
     "text": [
      "root\n",
      " |-- PS_PARTKEY: integer (nullable = true)\n",
      " |-- PS_SUPPKEY: integer (nullable = true)\n",
      " |-- PS_AVAILQTY: integer (nullable = true)\n",
      " |-- PS_SUPPLYCOST: double (nullable = true)\n",
      " |-- PS_COMMENT: string (nullable = true)\n",
      "\n"
     ]
    }
   ],
   "source": [
    "partsupp = spark.read.option(\"inferSchema\",True).option(\"header\",True).option(\"sep\", '\\t').csv(\"/home/labuser/Downloads/Retail_Dataset/partsupp.csv\")\n",
    "partsupp.printSchema()"
   ]
  },
  {
   "cell_type": "code",
   "execution_count": 11,
   "id": "cd39c6c0",
   "metadata": {},
   "outputs": [
    {
     "name": "stdout",
     "output_type": "stream",
     "text": [
      "root\n",
      " |-- R_REGIONKEY: integer (nullable = true)\n",
      " |-- R_NAME: string (nullable = true)\n",
      " |-- R_COMMENT: string (nullable = true)\n",
      "\n"
     ]
    }
   ],
   "source": [
    "region = spark.read.option(\"inferSchema\",True).option(\"header\",True).option(\"sep\", '\\t').csv(\"/home/labuser/Downloads/Retail_Dataset/region.csv\")\n",
    "region.printSchema()"
   ]
  },
  {
   "cell_type": "code",
   "execution_count": 12,
   "id": "57a12a71",
   "metadata": {},
   "outputs": [
    {
     "name": "stdout",
     "output_type": "stream",
     "text": [
      "root\n",
      " |-- S_SUPPKEY: integer (nullable = true)\n",
      " |-- S_NAME: string (nullable = true)\n",
      " |-- S_ADDRESS: string (nullable = true)\n",
      " |-- S_NATIONKEY: integer (nullable = true)\n",
      " |-- S_PHONE: string (nullable = true)\n",
      " |-- S_ACCTBAL: double (nullable = true)\n",
      " |-- S_COMMENT: string (nullable = true)\n",
      "\n"
     ]
    }
   ],
   "source": [
    "supplier = spark.read.option(\"inferSchema\",True).option(\"header\",True).option(\"sep\", '\\t').csv(\"/home/labuser/Downloads/Retail_Dataset/supplier.csv\")\n",
    "supplier.printSchema()"
   ]
  },
  {
   "cell_type": "code",
   "execution_count": 19,
   "id": "bbebcc26",
   "metadata": {},
   "outputs": [
    {
     "name": "stdout",
     "output_type": "stream",
     "text": [
      "+---------+------------------+--------------------+-----------+---------------+---------+------------+--------------------+----------+-------------+------------+------------+\n",
      "|C_CUSTKEY|            C_NAME|           C_ADDRESS|C_NATIONKEY|        C_PHONE|C_ACCTBAL|C_MKTSEGMENT|           C_COMMENT|orderprice|O_ORDERSTATUS|L_LINENUMBER|L_LINESTATUS|\n",
      "+---------+------------------+--------------------+-----------+---------------+---------+------------+--------------------+----------+-------------+------------+------------+\n",
      "|      370|Customer#000000370|          oyAPndV IN|         12|22-524-280-8721|  8982.79|   FURNITURE|ges. final packag...| 172799.49|            O|           6|           O|\n",
      "|      370|Customer#000000370|          oyAPndV IN|         12|22-524-280-8721|  8982.79|   FURNITURE|ges. final packag...| 172799.49|            O|           5|           O|\n",
      "|      370|Customer#000000370|          oyAPndV IN|         12|22-524-280-8721|  8982.79|   FURNITURE|ges. final packag...| 172799.49|            O|           4|           O|\n",
      "|      370|Customer#000000370|          oyAPndV IN|         12|22-524-280-8721|  8982.79|   FURNITURE|ges. final packag...| 172799.49|            O|           3|           O|\n",
      "|      370|Customer#000000370|          oyAPndV IN|         12|22-524-280-8721|  8982.79|   FURNITURE|ges. final packag...| 172799.49|            O|           2|           O|\n",
      "|      370|Customer#000000370|          oyAPndV IN|         12|22-524-280-8721|  8982.79|   FURNITURE|ges. final packag...| 172799.49|            O|           1|           O|\n",
      "|      781|Customer#000000781|FQCAkyfV0 kL3,FNA...|         18|28-478-388-5881|  6403.62|   MACHINERY|ake blithely blit...|  38426.09|            O|           1|           O|\n",
      "|     1234|Customer#000001234|B3OhbH0MRJE,F0Lc7...|          1|11-742-434-6436|  -982.32|   FURNITURE|y ironic instruct...|  205654.3|            F|           6|           F|\n",
      "|     1234|Customer#000001234|B3OhbH0MRJE,F0Lc7...|          1|11-742-434-6436|  -982.32|   FURNITURE|y ironic instruct...|  205654.3|            F|           5|           F|\n",
      "|     1234|Customer#000001234|B3OhbH0MRJE,F0Lc7...|          1|11-742-434-6436|  -982.32|   FURNITURE|y ironic instruct...|  205654.3|            F|           4|           F|\n",
      "|     1234|Customer#000001234|B3OhbH0MRJE,F0Lc7...|          1|11-742-434-6436|  -982.32|   FURNITURE|y ironic instruct...|  205654.3|            F|           3|           F|\n",
      "|     1234|Customer#000001234|B3OhbH0MRJE,F0Lc7...|          1|11-742-434-6436|  -982.32|   FURNITURE|y ironic instruct...|  205654.3|            F|           2|           F|\n",
      "|     1234|Customer#000001234|B3OhbH0MRJE,F0Lc7...|          1|11-742-434-6436|  -982.32|   FURNITURE|y ironic instruct...|  205654.3|            F|           1|           F|\n",
      "|     1369|Customer#000001369|rXTwOzU0a2ak4Nj5L...|         10|20-232-617-7418|   498.77|  AUTOMOBILE|ong the ironic id...|  56000.91|            O|           1|           O|\n",
      "|      445|Customer#000000445|MX1UA0KUJzIGyWM p...|         20|30-849-846-6070|  8018.81|   FURNITURE|e ironic, special...| 105367.67|            F|           3|           F|\n",
      "|      445|Customer#000000445|MX1UA0KUJzIGyWM p...|         20|30-849-846-6070|  8018.81|   FURNITURE|e ironic, special...| 105367.67|            F|           2|           F|\n",
      "|      445|Customer#000000445|MX1UA0KUJzIGyWM p...|         20|30-849-846-6070|  8018.81|   FURNITURE|e ironic, special...| 105367.67|            F|           1|           F|\n",
      "|      557|Customer#000000557|          Nt6FUuDR7v|         15|25-390-153-6699|  9559.04|    BUILDING|furiously pending...|   45523.1|            F|           1|           F|\n",
      "|      392|Customer#000000392|          H7M6JObndO|         17|27-601-793-2507|  8492.33|    BUILDING|efully bold ideas...| 271885.66|            O|           7|           O|\n",
      "|      392|Customer#000000392|          H7M6JObndO|         17|27-601-793-2507|  8492.33|    BUILDING|efully bold ideas...| 271885.66|            O|           6|           O|\n",
      "+---------+------------------+--------------------+-----------+---------------+---------+------------+--------------------+----------+-------------+------------+------------+\n",
      "only showing top 20 rows\n",
      "\n"
     ]
    }
   ],
   "source": [
    "joindf = cust.join(orders,cust.C_CUSTKEY == orders.O_CUSTKEY, how = \"inner\").\\\n",
    "         join(line, orders.O_ORDERKEY == line.L_ORDERKEY, how = \"inner\").\\\n",
    "         select(cust[\"*\"],orders[\"O_TOTALPRICE\"].alias(\"orderprice\"),orders[\"O_ORDERSTATUS\"],line[\"L_LINENUMBER\"],line[\"L_LINESTATUS\"])\n",
    "joindf.show()"
   ]
  },
  {
   "cell_type": "code",
   "execution_count": null,
   "id": "d59b3dba",
   "metadata": {},
   "outputs": [],
   "source": []
  }
 ],
 "metadata": {
  "kernelspec": {
   "display_name": "Python 3 (ipykernel)",
   "language": "python",
   "name": "python3"
  },
  "language_info": {
   "codemirror_mode": {
    "name": "ipython",
    "version": 3
   },
   "file_extension": ".py",
   "mimetype": "text/x-python",
   "name": "python",
   "nbconvert_exporter": "python",
   "pygments_lexer": "ipython3",
   "version": "3.11.4"
  }
 },
 "nbformat": 4,
 "nbformat_minor": 5
}
