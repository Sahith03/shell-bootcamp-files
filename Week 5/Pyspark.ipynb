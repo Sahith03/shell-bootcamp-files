{
 "cells": [
  {
   "cell_type": "code",
   "execution_count": 1,
   "id": "8bc94ed4",
   "metadata": {},
   "outputs": [],
   "source": [
    "import findspark"
   ]
  },
  {
   "cell_type": "code",
   "execution_count": 2,
   "id": "7c46652c",
   "metadata": {},
   "outputs": [],
   "source": [
    "# Initializing PySpark by finding the location\n",
    "# findspark.init('') also works after restarting\n",
    "findspark.init('/opt/anaconda3/lib/python3.11/site-packages/pyspark/')"
   ]
  },
  {
   "cell_type": "code",
   "execution_count": 3,
   "id": "52848844",
   "metadata": {},
   "outputs": [
    {
     "name": "stderr",
     "output_type": "stream",
     "text": [
      "Setting default log level to \"WARN\".\n",
      "To adjust logging level use sc.setLogLevel(newLevel). For SparkR, use setLogLevel(newLevel).\n",
      "23/09/25 03:52:23 WARN NativeCodeLoader: Unable to load native-hadoop library for your platform... using builtin-java classes where applicable\n"
     ]
    }
   ],
   "source": [
    "from pyspark.sql import SparkSession\n",
    "\n",
    "#Initialize SparkSession\n",
    "spark = SparkSession.builder.appName(\"WordCount\").getOrCreate()"
   ]
  },
  {
   "cell_type": "code",
   "execution_count": 4,
   "id": "52e8bf58",
   "metadata": {},
   "outputs": [],
   "source": [
    "# Reading a text file\n",
    "text_file = spark.sparkContext.textFile(\"/home/labuser/Desktop/Readme.txt\")"
   ]
  },
  {
   "cell_type": "code",
   "execution_count": 9,
   "id": "a37b7762",
   "metadata": {
    "collapsed": true
   },
   "outputs": [
    {
     "ename": "Py4JJavaError",
     "evalue": "An error occurred while calling o26.partitions.\n: org.apache.hadoop.mapred.InvalidInputException: Input path does not exist: file:/home/labuser/Desktop/Readme.txt\n\tat org.apache.hadoop.mapred.FileInputFormat.singleThreadedListStatus(FileInputFormat.java:304)\n\tat org.apache.hadoop.mapred.FileInputFormat.listStatus(FileInputFormat.java:244)\n\tat org.apache.hadoop.mapred.FileInputFormat.getSplits(FileInputFormat.java:332)\n\tat org.apache.spark.rdd.HadoopRDD.getPartitions(HadoopRDD.scala:208)\n\tat org.apache.spark.rdd.RDD.$anonfun$partitions$2(RDD.scala:291)\n\tat scala.Option.getOrElse(Option.scala:189)\n\tat org.apache.spark.rdd.RDD.partitions(RDD.scala:287)\n\tat org.apache.spark.rdd.MapPartitionsRDD.getPartitions(MapPartitionsRDD.scala:49)\n\tat org.apache.spark.rdd.RDD.$anonfun$partitions$2(RDD.scala:291)\n\tat scala.Option.getOrElse(Option.scala:189)\n\tat org.apache.spark.rdd.RDD.partitions(RDD.scala:287)\n\tat org.apache.spark.api.java.JavaRDDLike.partitions(JavaRDDLike.scala:61)\n\tat org.apache.spark.api.java.JavaRDDLike.partitions$(JavaRDDLike.scala:61)\n\tat org.apache.spark.api.java.AbstractJavaRDDLike.partitions(JavaRDDLike.scala:45)\n\tat sun.reflect.NativeMethodAccessorImpl.invoke0(Native Method)\n\tat sun.reflect.NativeMethodAccessorImpl.invoke(NativeMethodAccessorImpl.java:62)\n\tat sun.reflect.DelegatingMethodAccessorImpl.invoke(DelegatingMethodAccessorImpl.java:43)\n\tat java.lang.reflect.Method.invoke(Method.java:498)\n\tat py4j.reflection.MethodInvoker.invoke(MethodInvoker.java:244)\n\tat py4j.reflection.ReflectionEngine.invoke(ReflectionEngine.java:374)\n\tat py4j.Gateway.invoke(Gateway.java:282)\n\tat py4j.commands.AbstractCommand.invokeMethod(AbstractCommand.java:132)\n\tat py4j.commands.CallCommand.execute(CallCommand.java:79)\n\tat py4j.ClientServerConnection.waitForCommands(ClientServerConnection.java:182)\n\tat py4j.ClientServerConnection.run(ClientServerConnection.java:106)\n\tat java.lang.Thread.run(Thread.java:750)\nCaused by: java.io.IOException: Input path does not exist: file:/home/labuser/Desktop/Readme.txt\n\tat org.apache.hadoop.mapred.FileInputFormat.singleThreadedListStatus(FileInputFormat.java:278)\n\t... 25 more\n",
     "output_type": "error",
     "traceback": [
      "\u001b[0;31m---------------------------------------------------------------------------\u001b[0m",
      "\u001b[0;31mPy4JJavaError\u001b[0m                             Traceback (most recent call last)",
      "Cell \u001b[0;32mIn[9], line 8\u001b[0m\n\u001b[1;32m      5\u001b[0m word_counts \u001b[38;5;241m=\u001b[39m words\u001b[38;5;241m.\u001b[39mmap(\u001b[38;5;28;01mlambda\u001b[39;00m word: (word, \u001b[38;5;241m1\u001b[39m))\n\u001b[1;32m      7\u001b[0m \u001b[38;5;66;03m# Reduce by key to count the occurences of each word\u001b[39;00m\n\u001b[0;32m----> 8\u001b[0m word_count \u001b[38;5;241m=\u001b[39m word_counts\u001b[38;5;241m.\u001b[39mreduceByKey(\u001b[38;5;28;01mlambda\u001b[39;00m a, b: a\u001b[38;5;241m+\u001b[39mb)\n\u001b[1;32m     10\u001b[0m \u001b[38;5;66;03m# Collect the results\u001b[39;00m\n\u001b[1;32m     11\u001b[0m results \u001b[38;5;241m=\u001b[39m word_count\u001b[38;5;241m.\u001b[39mcollect()\n",
      "File \u001b[0;32m/opt/anaconda3/lib/python3.11/site-packages/pyspark/rdd.py:3533\u001b[0m, in \u001b[0;36mRDD.reduceByKey\u001b[0;34m(self, func, numPartitions, partitionFunc)\u001b[0m\n\u001b[1;32m   3486\u001b[0m \u001b[38;5;28;01mdef\u001b[39;00m \u001b[38;5;21mreduceByKey\u001b[39m(\n\u001b[1;32m   3487\u001b[0m     \u001b[38;5;28mself\u001b[39m: \u001b[38;5;124m\"\u001b[39m\u001b[38;5;124mRDD[Tuple[K, V]]\u001b[39m\u001b[38;5;124m\"\u001b[39m,\n\u001b[1;32m   3488\u001b[0m     func: Callable[[V, V], V],\n\u001b[1;32m   3489\u001b[0m     numPartitions: Optional[\u001b[38;5;28mint\u001b[39m] \u001b[38;5;241m=\u001b[39m \u001b[38;5;28;01mNone\u001b[39;00m,\n\u001b[1;32m   3490\u001b[0m     partitionFunc: Callable[[K], \u001b[38;5;28mint\u001b[39m] \u001b[38;5;241m=\u001b[39m portable_hash,\n\u001b[1;32m   3491\u001b[0m ) \u001b[38;5;241m-\u001b[39m\u001b[38;5;241m>\u001b[39m \u001b[38;5;124m\"\u001b[39m\u001b[38;5;124mRDD[Tuple[K, V]]\u001b[39m\u001b[38;5;124m\"\u001b[39m:\n\u001b[1;32m   3492\u001b[0m \u001b[38;5;250m    \u001b[39m\u001b[38;5;124;03m\"\"\"\u001b[39;00m\n\u001b[1;32m   3493\u001b[0m \u001b[38;5;124;03m    Merge the values for each key using an associative and commutative reduce function.\u001b[39;00m\n\u001b[1;32m   3494\u001b[0m \n\u001b[0;32m   (...)\u001b[0m\n\u001b[1;32m   3531\u001b[0m \u001b[38;5;124;03m    [('a', 2), ('b', 1)]\u001b[39;00m\n\u001b[1;32m   3532\u001b[0m \u001b[38;5;124;03m    \"\"\"\u001b[39;00m\n\u001b[0;32m-> 3533\u001b[0m     \u001b[38;5;28;01mreturn\u001b[39;00m \u001b[38;5;28mself\u001b[39m\u001b[38;5;241m.\u001b[39mcombineByKey(\u001b[38;5;28;01mlambda\u001b[39;00m x: x, func, func, numPartitions, partitionFunc)\n",
      "File \u001b[0;32m/opt/anaconda3/lib/python3.11/site-packages/pyspark/rdd.py:3956\u001b[0m, in \u001b[0;36mRDD.combineByKey\u001b[0;34m(self, createCombiner, mergeValue, mergeCombiners, numPartitions, partitionFunc)\u001b[0m\n\u001b[1;32m   3894\u001b[0m \u001b[38;5;250m\u001b[39m\u001b[38;5;124;03m\"\"\"\u001b[39;00m\n\u001b[1;32m   3895\u001b[0m \u001b[38;5;124;03mGeneric function to combine the elements for each key using a custom\u001b[39;00m\n\u001b[1;32m   3896\u001b[0m \u001b[38;5;124;03mset of aggregation functions.\u001b[39;00m\n\u001b[0;32m   (...)\u001b[0m\n\u001b[1;32m   3953\u001b[0m \u001b[38;5;124;03m[('a', [1, 2]), ('b', [1])]\u001b[39;00m\n\u001b[1;32m   3954\u001b[0m \u001b[38;5;124;03m\"\"\"\u001b[39;00m\n\u001b[1;32m   3955\u001b[0m \u001b[38;5;28;01mif\u001b[39;00m numPartitions \u001b[38;5;129;01mis\u001b[39;00m \u001b[38;5;28;01mNone\u001b[39;00m:\n\u001b[0;32m-> 3956\u001b[0m     numPartitions \u001b[38;5;241m=\u001b[39m \u001b[38;5;28mself\u001b[39m\u001b[38;5;241m.\u001b[39m_defaultReducePartitions()\n\u001b[1;32m   3958\u001b[0m serializer \u001b[38;5;241m=\u001b[39m \u001b[38;5;28mself\u001b[39m\u001b[38;5;241m.\u001b[39mctx\u001b[38;5;241m.\u001b[39mserializer\n\u001b[1;32m   3959\u001b[0m memory \u001b[38;5;241m=\u001b[39m \u001b[38;5;28mself\u001b[39m\u001b[38;5;241m.\u001b[39m_memory_limit()\n",
      "File \u001b[0;32m/opt/anaconda3/lib/python3.11/site-packages/pyspark/rdd.py:4846\u001b[0m, in \u001b[0;36mRDD._defaultReducePartitions\u001b[0;34m(self)\u001b[0m\n\u001b[1;32m   4844\u001b[0m     \u001b[38;5;28;01mreturn\u001b[39;00m \u001b[38;5;28mself\u001b[39m\u001b[38;5;241m.\u001b[39mctx\u001b[38;5;241m.\u001b[39mdefaultParallelism\n\u001b[1;32m   4845\u001b[0m \u001b[38;5;28;01melse\u001b[39;00m:\n\u001b[0;32m-> 4846\u001b[0m     \u001b[38;5;28;01mreturn\u001b[39;00m \u001b[38;5;28mself\u001b[39m\u001b[38;5;241m.\u001b[39mgetNumPartitions()\n",
      "File \u001b[0;32m/opt/anaconda3/lib/python3.11/site-packages/pyspark/rdd.py:5424\u001b[0m, in \u001b[0;36mPipelinedRDD.getNumPartitions\u001b[0;34m(self)\u001b[0m\n\u001b[1;32m   5423\u001b[0m \u001b[38;5;28;01mdef\u001b[39;00m \u001b[38;5;21mgetNumPartitions\u001b[39m(\u001b[38;5;28mself\u001b[39m) \u001b[38;5;241m-\u001b[39m\u001b[38;5;241m>\u001b[39m \u001b[38;5;28mint\u001b[39m:\n\u001b[0;32m-> 5424\u001b[0m     \u001b[38;5;28;01mreturn\u001b[39;00m \u001b[38;5;28mself\u001b[39m\u001b[38;5;241m.\u001b[39m_prev_jrdd\u001b[38;5;241m.\u001b[39mpartitions()\u001b[38;5;241m.\u001b[39msize()\n",
      "File \u001b[0;32m/opt/anaconda3/lib/python3.11/site-packages/py4j/java_gateway.py:1322\u001b[0m, in \u001b[0;36mJavaMember.__call__\u001b[0;34m(self, *args)\u001b[0m\n\u001b[1;32m   1316\u001b[0m command \u001b[38;5;241m=\u001b[39m proto\u001b[38;5;241m.\u001b[39mCALL_COMMAND_NAME \u001b[38;5;241m+\u001b[39m\\\n\u001b[1;32m   1317\u001b[0m     \u001b[38;5;28mself\u001b[39m\u001b[38;5;241m.\u001b[39mcommand_header \u001b[38;5;241m+\u001b[39m\\\n\u001b[1;32m   1318\u001b[0m     args_command \u001b[38;5;241m+\u001b[39m\\\n\u001b[1;32m   1319\u001b[0m     proto\u001b[38;5;241m.\u001b[39mEND_COMMAND_PART\n\u001b[1;32m   1321\u001b[0m answer \u001b[38;5;241m=\u001b[39m \u001b[38;5;28mself\u001b[39m\u001b[38;5;241m.\u001b[39mgateway_client\u001b[38;5;241m.\u001b[39msend_command(command)\n\u001b[0;32m-> 1322\u001b[0m return_value \u001b[38;5;241m=\u001b[39m get_return_value(\n\u001b[1;32m   1323\u001b[0m     answer, \u001b[38;5;28mself\u001b[39m\u001b[38;5;241m.\u001b[39mgateway_client, \u001b[38;5;28mself\u001b[39m\u001b[38;5;241m.\u001b[39mtarget_id, \u001b[38;5;28mself\u001b[39m\u001b[38;5;241m.\u001b[39mname)\n\u001b[1;32m   1325\u001b[0m \u001b[38;5;28;01mfor\u001b[39;00m temp_arg \u001b[38;5;129;01min\u001b[39;00m temp_args:\n\u001b[1;32m   1326\u001b[0m     \u001b[38;5;28;01mif\u001b[39;00m \u001b[38;5;28mhasattr\u001b[39m(temp_arg, \u001b[38;5;124m\"\u001b[39m\u001b[38;5;124m_detach\u001b[39m\u001b[38;5;124m\"\u001b[39m):\n",
      "File \u001b[0;32m/opt/anaconda3/lib/python3.11/site-packages/pyspark/errors/exceptions/captured.py:169\u001b[0m, in \u001b[0;36mcapture_sql_exception.<locals>.deco\u001b[0;34m(*a, **kw)\u001b[0m\n\u001b[1;32m    167\u001b[0m \u001b[38;5;28;01mdef\u001b[39;00m \u001b[38;5;21mdeco\u001b[39m(\u001b[38;5;241m*\u001b[39ma: Any, \u001b[38;5;241m*\u001b[39m\u001b[38;5;241m*\u001b[39mkw: Any) \u001b[38;5;241m-\u001b[39m\u001b[38;5;241m>\u001b[39m Any:\n\u001b[1;32m    168\u001b[0m     \u001b[38;5;28;01mtry\u001b[39;00m:\n\u001b[0;32m--> 169\u001b[0m         \u001b[38;5;28;01mreturn\u001b[39;00m f(\u001b[38;5;241m*\u001b[39ma, \u001b[38;5;241m*\u001b[39m\u001b[38;5;241m*\u001b[39mkw)\n\u001b[1;32m    170\u001b[0m     \u001b[38;5;28;01mexcept\u001b[39;00m Py4JJavaError \u001b[38;5;28;01mas\u001b[39;00m e:\n\u001b[1;32m    171\u001b[0m         converted \u001b[38;5;241m=\u001b[39m convert_exception(e\u001b[38;5;241m.\u001b[39mjava_exception)\n",
      "File \u001b[0;32m/opt/anaconda3/lib/python3.11/site-packages/py4j/protocol.py:326\u001b[0m, in \u001b[0;36mget_return_value\u001b[0;34m(answer, gateway_client, target_id, name)\u001b[0m\n\u001b[1;32m    324\u001b[0m value \u001b[38;5;241m=\u001b[39m OUTPUT_CONVERTER[\u001b[38;5;28mtype\u001b[39m](answer[\u001b[38;5;241m2\u001b[39m:], gateway_client)\n\u001b[1;32m    325\u001b[0m \u001b[38;5;28;01mif\u001b[39;00m answer[\u001b[38;5;241m1\u001b[39m] \u001b[38;5;241m==\u001b[39m REFERENCE_TYPE:\n\u001b[0;32m--> 326\u001b[0m     \u001b[38;5;28;01mraise\u001b[39;00m Py4JJavaError(\n\u001b[1;32m    327\u001b[0m         \u001b[38;5;124m\"\u001b[39m\u001b[38;5;124mAn error occurred while calling \u001b[39m\u001b[38;5;132;01m{0}\u001b[39;00m\u001b[38;5;132;01m{1}\u001b[39;00m\u001b[38;5;132;01m{2}\u001b[39;00m\u001b[38;5;124m.\u001b[39m\u001b[38;5;130;01m\\n\u001b[39;00m\u001b[38;5;124m\"\u001b[39m\u001b[38;5;241m.\u001b[39m\n\u001b[1;32m    328\u001b[0m         \u001b[38;5;28mformat\u001b[39m(target_id, \u001b[38;5;124m\"\u001b[39m\u001b[38;5;124m.\u001b[39m\u001b[38;5;124m\"\u001b[39m, name), value)\n\u001b[1;32m    329\u001b[0m \u001b[38;5;28;01melse\u001b[39;00m:\n\u001b[1;32m    330\u001b[0m     \u001b[38;5;28;01mraise\u001b[39;00m Py4JError(\n\u001b[1;32m    331\u001b[0m         \u001b[38;5;124m\"\u001b[39m\u001b[38;5;124mAn error occurred while calling \u001b[39m\u001b[38;5;132;01m{0}\u001b[39;00m\u001b[38;5;132;01m{1}\u001b[39;00m\u001b[38;5;132;01m{2}\u001b[39;00m\u001b[38;5;124m. Trace:\u001b[39m\u001b[38;5;130;01m\\n\u001b[39;00m\u001b[38;5;132;01m{3}\u001b[39;00m\u001b[38;5;130;01m\\n\u001b[39;00m\u001b[38;5;124m\"\u001b[39m\u001b[38;5;241m.\u001b[39m\n\u001b[1;32m    332\u001b[0m         \u001b[38;5;28mformat\u001b[39m(target_id, \u001b[38;5;124m\"\u001b[39m\u001b[38;5;124m.\u001b[39m\u001b[38;5;124m\"\u001b[39m, name, value))\n",
      "\u001b[0;31mPy4JJavaError\u001b[0m: An error occurred while calling o26.partitions.\n: org.apache.hadoop.mapred.InvalidInputException: Input path does not exist: file:/home/labuser/Desktop/Readme.txt\n\tat org.apache.hadoop.mapred.FileInputFormat.singleThreadedListStatus(FileInputFormat.java:304)\n\tat org.apache.hadoop.mapred.FileInputFormat.listStatus(FileInputFormat.java:244)\n\tat org.apache.hadoop.mapred.FileInputFormat.getSplits(FileInputFormat.java:332)\n\tat org.apache.spark.rdd.HadoopRDD.getPartitions(HadoopRDD.scala:208)\n\tat org.apache.spark.rdd.RDD.$anonfun$partitions$2(RDD.scala:291)\n\tat scala.Option.getOrElse(Option.scala:189)\n\tat org.apache.spark.rdd.RDD.partitions(RDD.scala:287)\n\tat org.apache.spark.rdd.MapPartitionsRDD.getPartitions(MapPartitionsRDD.scala:49)\n\tat org.apache.spark.rdd.RDD.$anonfun$partitions$2(RDD.scala:291)\n\tat scala.Option.getOrElse(Option.scala:189)\n\tat org.apache.spark.rdd.RDD.partitions(RDD.scala:287)\n\tat org.apache.spark.api.java.JavaRDDLike.partitions(JavaRDDLike.scala:61)\n\tat org.apache.spark.api.java.JavaRDDLike.partitions$(JavaRDDLike.scala:61)\n\tat org.apache.spark.api.java.AbstractJavaRDDLike.partitions(JavaRDDLike.scala:45)\n\tat sun.reflect.NativeMethodAccessorImpl.invoke0(Native Method)\n\tat sun.reflect.NativeMethodAccessorImpl.invoke(NativeMethodAccessorImpl.java:62)\n\tat sun.reflect.DelegatingMethodAccessorImpl.invoke(DelegatingMethodAccessorImpl.java:43)\n\tat java.lang.reflect.Method.invoke(Method.java:498)\n\tat py4j.reflection.MethodInvoker.invoke(MethodInvoker.java:244)\n\tat py4j.reflection.ReflectionEngine.invoke(ReflectionEngine.java:374)\n\tat py4j.Gateway.invoke(Gateway.java:282)\n\tat py4j.commands.AbstractCommand.invokeMethod(AbstractCommand.java:132)\n\tat py4j.commands.CallCommand.execute(CallCommand.java:79)\n\tat py4j.ClientServerConnection.waitForCommands(ClientServerConnection.java:182)\n\tat py4j.ClientServerConnection.run(ClientServerConnection.java:106)\n\tat java.lang.Thread.run(Thread.java:750)\nCaused by: java.io.IOException: Input path does not exist: file:/home/labuser/Desktop/Readme.txt\n\tat org.apache.hadoop.mapred.FileInputFormat.singleThreadedListStatus(FileInputFormat.java:278)\n\t... 25 more\n"
     ]
    }
   ],
   "source": [
    "# Split lines into words and flatten them\n",
    "words = text_file.flatMap(lambda line: line.split(\" \"))\n",
    "\n",
    "# Map each word to (word, 1) to prepare for counting\n",
    "word_counts = words.map(lambda word: (word, 1))\n",
    "\n",
    "# Reduce by key to count the occurences of each word\n",
    "word_count = word_counts.reduceByKey(lambda a, b: a+b)\n",
    "\n",
    "# Collect the results\n",
    "results = word_count.collect()"
   ]
  },
  {
   "cell_type": "code",
   "execution_count": 4,
   "id": "c8ed5d1c",
   "metadata": {},
   "outputs": [],
   "source": [
    "sc = spark.sparkContext"
   ]
  },
  {
   "cell_type": "code",
   "execution_count": null,
   "id": "ffbf5c6f",
   "metadata": {},
   "outputs": [],
   "source": [
    "# RDD creation and functions\n",
    "rdd = sc.parallelize([1,23,4,5])"
   ]
  },
  {
   "cell_type": "code",
   "execution_count": null,
   "id": "8998202d",
   "metadata": {},
   "outputs": [],
   "source": [
    "rdd.collect()"
   ]
  },
  {
   "cell_type": "code",
   "execution_count": null,
   "id": "b37d2492",
   "metadata": {},
   "outputs": [],
   "source": [
    "result = rdd.map(lambda x: x*2)\n",
    "result.collect()"
   ]
  },
  {
   "cell_type": "code",
   "execution_count": null,
   "id": "c21550d8",
   "metadata": {},
   "outputs": [],
   "source": [
    "rdd1=sc.parallelize([1,2,3,4,5])"
   ]
  },
  {
   "cell_type": "code",
   "execution_count": null,
   "id": "477f4628",
   "metadata": {},
   "outputs": [],
   "source": [
    "resultrdd1 = rdd1.flatMap(lambda x:(x, x*2))\n",
    "resultrdd1.collect()"
   ]
  },
  {
   "cell_type": "code",
   "execution_count": null,
   "id": "f4c7b256",
   "metadata": {},
   "outputs": [],
   "source": [
    "rdd2=sc.parallelize([1,2,3,4,5,6,7])\n",
    "resultrdd2 = rdd.filter(lambda x: x*2 ==0)\n",
    "resultrdd2.collect()"
   ]
  },
  {
   "cell_type": "code",
   "execution_count": null,
   "id": "b852a7ce",
   "metadata": {},
   "outputs": [],
   "source": [
    "rdd4=sc.parallelize([(1,2),(3,4),(1,6),(2,3)])\n",
    "res4 = rdd4.reduceByKey(lambda x,y : x+y)\n",
    "res4.collect()"
   ]
  },
  {
   "cell_type": "code",
   "execution_count": null,
   "id": "0596cb50",
   "metadata": {},
   "outputs": [],
   "source": [
    "rdd5=sc.parallelize([(1,2),(3,4),(1,6),(2,3)])\n",
    "res5 = rdd5.groupByKey()\n",
    "res5.collect()"
   ]
  },
  {
   "cell_type": "code",
   "execution_count": null,
   "id": "0d40128b",
   "metadata": {},
   "outputs": [],
   "source": [
    "for key,values in res5.collect():\n",
    "    print(f\"Key: {key}, Values: {list(values)}\")"
   ]
  },
  {
   "cell_type": "code",
   "execution_count": null,
   "id": "2cb8f36a",
   "metadata": {},
   "outputs": [],
   "source": [
    "# Counting words in a list using rdd\n",
    "words_list = [\"this\",\"is\", \"a\", \"sample\", \"text\", \"document\", \"for\", \"word\", \"count\", \"example\", \"word\", \"count\"]"
   ]
  },
  {
   "cell_type": "code",
   "execution_count": null,
   "id": "709a60d2",
   "metadata": {},
   "outputs": [],
   "source": [
    "rdd = sc.parallelize(words_list)"
   ]
  },
  {
   "cell_type": "code",
   "execution_count": null,
   "id": "394ff25e",
   "metadata": {},
   "outputs": [],
   "source": [
    "word_count = rdd.map(lambda x: (x,1))"
   ]
  },
  {
   "cell_type": "code",
   "execution_count": null,
   "id": "4289466e",
   "metadata": {},
   "outputs": [],
   "source": [
    "word_count.collect()"
   ]
  },
  {
   "cell_type": "code",
   "execution_count": null,
   "id": "ecadef89",
   "metadata": {},
   "outputs": [],
   "source": [
    "count = word_count.reduceByKey(lambda x,y: x+y)"
   ]
  },
  {
   "cell_type": "code",
   "execution_count": null,
   "id": "3c05855d",
   "metadata": {},
   "outputs": [],
   "source": [
    "count.collect()"
   ]
  },
  {
   "cell_type": "code",
   "execution_count": null,
   "id": "ae26829e",
   "metadata": {},
   "outputs": [],
   "source": [
    "results = count.collect()\n",
    "for word, count in results:\n",
    "    print(f\"{word}: {count}\")"
   ]
  },
  {
   "cell_type": "code",
   "execution_count": 11,
   "id": "f21657eb",
   "metadata": {},
   "outputs": [],
   "source": [
    "# Reading and loading files\n",
    "purchaserdd = sc.textFile(\"/home/labuser/Downloads/purchases.csv\")"
   ]
  },
  {
   "cell_type": "code",
   "execution_count": 12,
   "id": "9e155101",
   "metadata": {
    "collapsed": true
   },
   "outputs": [
    {
     "name": "stderr",
     "output_type": "stream",
     "text": [
      "                                                                                \r"
     ]
    },
    {
     "data": {
      "text/plain": [
       "[',apples,oranges', 'June,3,0', 'Robert,2,3', 'Lily,0,7', 'David,1,2']"
      ]
     },
     "execution_count": 12,
     "metadata": {},
     "output_type": "execute_result"
    }
   ],
   "source": [
    "purchaserdd.collect()"
   ]
  },
  {
   "cell_type": "code",
   "execution_count": 13,
   "id": "b4115f9d",
   "metadata": {},
   "outputs": [],
   "source": [
    "purchasedf = spark.read.csv(\"/home/labuser/Downloads/purchases.csv\")"
   ]
  },
  {
   "cell_type": "code",
   "execution_count": 14,
   "id": "9c1b55e6",
   "metadata": {
    "collapsed": true
   },
   "outputs": [
    {
     "name": "stdout",
     "output_type": "stream",
     "text": [
      "+------+------+-------+\n",
      "|   _c0|   _c1|    _c2|\n",
      "+------+------+-------+\n",
      "|  null|apples|oranges|\n",
      "|  June|     3|      0|\n",
      "|Robert|     2|      3|\n",
      "|  Lily|     0|      7|\n",
      "| David|     1|      2|\n",
      "+------+------+-------+\n",
      "\n"
     ]
    }
   ],
   "source": [
    "purchasedf.show()"
   ]
  },
  {
   "cell_type": "code",
   "execution_count": 15,
   "id": "9291d279",
   "metadata": {
    "collapsed": true
   },
   "outputs": [
    {
     "name": "stdout",
     "output_type": "stream",
     "text": [
      "+------+------+-------+\n",
      "|   _c0|apples|oranges|\n",
      "+------+------+-------+\n",
      "|  June|     3|      0|\n",
      "|Robert|     2|      3|\n",
      "|  Lily|     0|      7|\n",
      "| David|     1|      2|\n",
      "+------+------+-------+\n",
      "\n"
     ]
    },
    {
     "name": "stderr",
     "output_type": "stream",
     "text": [
      "23/09/21 10:45:53 WARN CSVHeaderChecker: CSV header does not conform to the schema.\n",
      " Header: , apples, oranges\n",
      " Schema: _c0, apples, oranges\n",
      "Expected: _c0 but found: \n",
      "CSV file: file:///home/labuser/Downloads/purchases.csv\n"
     ]
    }
   ],
   "source": [
    "# Overcoming schema and header issues while reading csv files\n",
    "purchased = spark.read.option(\"inferSchema\",True).option(\"header\",True).csv(\"/home/labuser/Downloads/purchases.csv\")\n",
    "purchased.show()"
   ]
  },
  {
   "cell_type": "code",
   "execution_count": 16,
   "id": "3d792e18",
   "metadata": {
    "collapsed": true
   },
   "outputs": [
    {
     "name": "stdout",
     "output_type": "stream",
     "text": [
      "root\n",
      " |-- _c0: string (nullable = true)\n",
      " |-- apples: integer (nullable = true)\n",
      " |-- oranges: integer (nullable = true)\n",
      "\n"
     ]
    }
   ],
   "source": [
    "purchased.printSchema()"
   ]
  },
  {
   "cell_type": "code",
   "execution_count": 5,
   "id": "e47a869e",
   "metadata": {},
   "outputs": [
    {
     "data": {
      "text/html": [
       "<div>\n",
       "<style scoped>\n",
       "    .dataframe tbody tr th:only-of-type {\n",
       "        vertical-align: middle;\n",
       "    }\n",
       "\n",
       "    .dataframe tbody tr th {\n",
       "        vertical-align: top;\n",
       "    }\n",
       "\n",
       "    .dataframe thead th {\n",
       "        text-align: right;\n",
       "    }\n",
       "</style>\n",
       "<table border=\"1\" class=\"dataframe\">\n",
       "  <thead>\n",
       "    <tr style=\"text-align: right;\">\n",
       "      <th></th>\n",
       "      <th>Unnamed: 0</th>\n",
       "      <th>apples</th>\n",
       "      <th>oranges</th>\n",
       "    </tr>\n",
       "  </thead>\n",
       "  <tbody>\n",
       "    <tr>\n",
       "      <th>0</th>\n",
       "      <td>June</td>\n",
       "      <td>3</td>\n",
       "      <td>0</td>\n",
       "    </tr>\n",
       "    <tr>\n",
       "      <th>1</th>\n",
       "      <td>Robert</td>\n",
       "      <td>2</td>\n",
       "      <td>3</td>\n",
       "    </tr>\n",
       "    <tr>\n",
       "      <th>2</th>\n",
       "      <td>Lily</td>\n",
       "      <td>0</td>\n",
       "      <td>7</td>\n",
       "    </tr>\n",
       "    <tr>\n",
       "      <th>3</th>\n",
       "      <td>David</td>\n",
       "      <td>1</td>\n",
       "      <td>2</td>\n",
       "    </tr>\n",
       "  </tbody>\n",
       "</table>\n",
       "</div>"
      ],
      "text/plain": [
       "  Unnamed: 0  apples  oranges\n",
       "0       June       3        0\n",
       "1     Robert       2        3\n",
       "2       Lily       0        7\n",
       "3      David       1        2"
      ]
     },
     "execution_count": 5,
     "metadata": {},
     "output_type": "execute_result"
    }
   ],
   "source": [
    "# Reading csv in df\n",
    "import pandas as pd\n",
    "df = pd.read_csv(\"/home/labuser/Downloads/purchases.csv\")\n",
    "df"
   ]
  },
  {
   "cell_type": "code",
   "execution_count": 18,
   "id": "6f44a76c",
   "metadata": {},
   "outputs": [],
   "source": [
    "# User defined schema\n",
    "from pyspark.sql.types import StructType, StructField, IntegerType, StringType\n",
    "\n",
    "udfschema = StructType ([StructField(\"Rank\",IntegerType(),True),\n",
    "                        StructField(\"Title\",StringType(),True),\n",
    "                        StructField(\"Genre\",StringType(),True),\n",
    "                        StructField(\"Description\",StringType(),True),\n",
    "                        StructField(\"Director\",StringType(),True),\n",
    "                        StructField(\"Actors\",StringType(),True),\n",
    "                        StructField(\"Year\",StringType(),True),\n",
    "                        StructField(\"Runtime (Minutes)\",StringType(),True),\n",
    "                        StructField(\"Rating\",StringType(),True),\n",
    "                        StructField(\"Votes\",StringType(),True),\n",
    "                        ])"
   ]
  },
  {
   "cell_type": "code",
   "execution_count": 6,
   "id": "40302688",
   "metadata": {
    "collapsed": true
   },
   "outputs": [
    {
     "name": "stderr",
     "output_type": "stream",
     "text": [
      "                                                                                \r"
     ]
    },
    {
     "name": "stdout",
     "output_type": "stream",
     "text": [
      "root\n",
      " |-- Rank: integer (nullable = true)\n",
      " |-- Title: string (nullable = true)\n",
      " |-- Genre: string (nullable = true)\n",
      " |-- Description: string (nullable = true)\n",
      " |-- Director: string (nullable = true)\n",
      " |-- Actors: string (nullable = true)\n",
      " |-- Year: string (nullable = true)\n",
      " |-- Runtime (Minutes): string (nullable = true)\n",
      " |-- Rating: string (nullable = true)\n",
      " |-- Votes: string (nullable = true)\n",
      " |-- Revenue (Millions): double (nullable = true)\n",
      " |-- Metascore: double (nullable = true)\n",
      "\n"
     ]
    },
    {
     "name": "stderr",
     "output_type": "stream",
     "text": [
      "\r",
      "[Stage 1:>                                                          (0 + 1) / 1]\r",
      "\r",
      "                                                                                \r"
     ]
    }
   ],
   "source": [
    "# Movie dataset\n",
    "movies = spark.read.option(\"inferSchema\",True).option(\"header\",True).csv(\"/home/labuser/Downloads/IMDB-Movie-Data.csv\")\n",
    "movies.printSchema()"
   ]
  },
  {
   "cell_type": "code",
   "execution_count": null,
   "id": "2cca908b",
   "metadata": {},
   "outputs": [],
   "source": [
    "#movies = spark.read.schema(udfschema).option(\"header\",True).csv(\"/home/labuser/Downloads/IMDB-Movie-Data.csv\")\n",
    "#movies.printSchema()"
   ]
  },
  {
   "cell_type": "code",
   "execution_count": 7,
   "id": "df9bdba4",
   "metadata": {
    "collapsed": true
   },
   "outputs": [
    {
     "name": "stderr",
     "output_type": "stream",
     "text": [
      "\r",
      "[Stage 2:>                                                          (0 + 1) / 1]\r",
      "\r",
      "                                                                                \r"
     ]
    },
    {
     "name": "stdout",
     "output_type": "stream",
     "text": [
      "+----+--------------------+--------------------+--------------------+--------------------+--------------------+--------------------+-----------------+------+------+------------------+---------+\n",
      "|Rank|               Title|               Genre|         Description|            Director|              Actors|                Year|Runtime (Minutes)|Rating| Votes|Revenue (Millions)|Metascore|\n",
      "+----+--------------------+--------------------+--------------------+--------------------+--------------------+--------------------+-----------------+------+------+------------------+---------+\n",
      "|   1|Guardians of the ...|Action,Adventure,...|A group of interg...|          James Gunn|Chris Pratt, Vin ...|                2014|              121|   8.1|757074|            333.13|     76.0|\n",
      "|   2|          Prometheus|Adventure,Mystery...|Following clues t...|        Ridley Scott|Noomi Rapace, Log...|                2012|              124|     7|485820|            126.46|     65.0|\n",
      "|   3|               Split|     Horror,Thriller|Three girls are k...|  M. Night Shyamalan|James McAvoy, Any...|                2016|              117|   7.3|157606|            138.12|     62.0|\n",
      "|   4|                Sing|Animation,Comedy,...|In a city of huma...|Christophe Lourdelet|Matthew McConaugh...|                2016|              108|   7.2| 60545|            270.32|     59.0|\n",
      "|   5|       Suicide Squad|Action,Adventure,...|A secret governme...|          David Ayer|Will Smith, Jared...|                2016|              123|   6.2|393727|            325.02|     40.0|\n",
      "|   6|      The Great Wall|Action,Adventure,...|European mercenar...|         Yimou Zhang|Matt Damon, Tian ...|                2016|              103|   6.1| 56036|             45.13|     42.0|\n",
      "|   7|          La La Land|  Comedy,Drama,Music|A jazz pianist fa...|     Damien Chazelle|Ryan Gosling, Emm...|                2016|              128|   8.3|258682|            151.06|     93.0|\n",
      "|   8|            Mindhorn|              Comedy|\"A has-been actor...| whom he believes...|          Sean Foley|Essie Davis, Andr...|             2016|    89|   6.4|            2490.0|     null|\n",
      "|   9|  The Lost City of Z|Action,Adventure,...|A true-life drama...|          James Gray|Charlie Hunnam, R...|                2016|              141|   7.1|  7188|              8.01|     78.0|\n",
      "|  10|          Passengers|Adventure,Drama,R...|A spacecraft trav...|       Morten Tyldum|Jennifer Lawrence...|                2016|              116|     7|192177|            100.01|     41.0|\n",
      "|  11|Fantastic Beasts ...|Adventure,Family,...|The adventures of...|         David Yates|Eddie Redmayne, K...|                2016|              133|   7.5|232072|            234.02|     66.0|\n",
      "|  12|      Hidden Figures|Biography,Drama,H...|The story of a te...|      Theodore Melfi|Taraji P. Henson,...|                2016|              127|   7.8| 93103|            169.27|     74.0|\n",
      "|  13|           Rogue One|Action,Adventure,...|The Rebel Allianc...|      Gareth Edwards|Felicity Jones, D...|                2016|              133|   7.9|323118|            532.17|     65.0|\n",
      "|  14|               Moana|Animation,Adventu...|In Ancient Polyne...|        Ron Clements|Auli'i Cravalho, ...|                2016|              107|   7.7|118151|            248.75|     81.0|\n",
      "|  15|            Colossal| Action,Comedy,Drama|Gloria is an out-...|     Nacho Vigalondo|Anne Hathaway, Ja...|                2016|              109|   6.4|  8612|              2.87|     70.0|\n",
      "|  16|The Secret Life o...|Animation,Adventu...|The quiet life of...|        Chris Renaud|Louis C.K., Eric ...|                2016|               87|   6.6|120259|            368.31|     61.0|\n",
      "|  17|       Hacksaw Ridge|Biography,Drama,H...|WWII American Arm...|          Mel Gibson|Andrew Garfield, ...|                2016|              139|   8.2|211760|             67.12|     71.0|\n",
      "|  18|        Jason Bourne|     Action,Thriller|The CIA's most da...|     Paul Greengrass|Matt Damon, Tommy...|                2016|              123|   6.7|150823|            162.16|     58.0|\n",
      "|  19|                Lion|     Biography,Drama|A five-year-old I...|         Garth Davis|Dev Patel, Nicole...|                2016|              118|   8.1|102061|             51.69|     69.0|\n",
      "|  20|             Arrival|Drama,Mystery,Sci-Fi|When twelve myste...|    Denis Villeneuve|Amy Adams, Jeremy...|                2016|              116|     8|340798|             100.5|     81.0|\n",
      "+----+--------------------+--------------------+--------------------+--------------------+--------------------+--------------------+-----------------+------+------+------------------+---------+\n",
      "only showing top 20 rows\n",
      "\n"
     ]
    }
   ],
   "source": [
    "movies.show()"
   ]
  },
  {
   "cell_type": "code",
   "execution_count": 4,
   "id": "cc15b97b",
   "metadata": {},
   "outputs": [],
   "source": [
    "# Transformations on df\n",
    "from pyspark.sql.functions import *"
   ]
  },
  {
   "cell_type": "code",
   "execution_count": 26,
   "id": "b40313d1",
   "metadata": {
    "collapsed": true
   },
   "outputs": [
    {
     "name": "stdout",
     "output_type": "stream",
     "text": [
      "+----+--------------------+--------------------+--------------------+--------------------+--------------------+--------------------+-----------------+------+------+------------------+---------+-----------------+--------+\n",
      "|Rank|               Title|               Genre|         Description|            Director|              Actors|                Year|Runtime (Minutes)|Rating| Votes|Revenue (Millions)|Metascore|          rev_new|   batch|\n",
      "+----+--------------------+--------------------+--------------------+--------------------+--------------------+--------------------+-----------------+------+------+------------------+---------+-----------------+--------+\n",
      "|   1|Guardians of the ...|Action,Adventure,...|A group of interg...|          James Gunn|Chris Pratt, Vin ...|                2014|              121|   8.1|757074|            333.13|     76.0|          33313.0|Batch_03|\n",
      "|   2|          Prometheus|Adventure,Mystery...|Following clues t...|        Ridley Scott|Noomi Rapace, Log...|                2012|              124|     7|485820|            126.46|     65.0|          12646.0|Batch_03|\n",
      "|   3|               Split|     Horror,Thriller|Three girls are k...|  M. Night Shyamalan|James McAvoy, Any...|                2016|              117|   7.3|157606|            138.12|     62.0|          13812.0|Batch_03|\n",
      "|   4|                Sing|Animation,Comedy,...|In a city of huma...|Christophe Lourdelet|Matthew McConaugh...|                2016|              108|   7.2| 60545|            270.32|     59.0|          27032.0|Batch_03|\n",
      "|   5|       Suicide Squad|Action,Adventure,...|A secret governme...|          David Ayer|Will Smith, Jared...|                2016|              123|   6.2|393727|            325.02|     40.0|          32502.0|Batch_03|\n",
      "|   6|      The Great Wall|Action,Adventure,...|European mercenar...|         Yimou Zhang|Matt Damon, Tian ...|                2016|              103|   6.1| 56036|             45.13|     42.0|           4513.0|Batch_03|\n",
      "|   7|          La La Land|  Comedy,Drama,Music|A jazz pianist fa...|     Damien Chazelle|Ryan Gosling, Emm...|                2016|              128|   8.3|258682|            151.06|     93.0|          15106.0|Batch_03|\n",
      "|   8|            Mindhorn|              Comedy|\"A has-been actor...| whom he believes...|          Sean Foley|Essie Davis, Andr...|             2016|    89|   6.4|            2490.0|     null|         249000.0|Batch_03|\n",
      "|   9|  The Lost City of Z|Action,Adventure,...|A true-life drama...|          James Gray|Charlie Hunnam, R...|                2016|              141|   7.1|  7188|              8.01|     78.0|            801.0|Batch_03|\n",
      "|  10|          Passengers|Adventure,Drama,R...|A spacecraft trav...|       Morten Tyldum|Jennifer Lawrence...|                2016|              116|     7|192177|            100.01|     41.0|          10001.0|Batch_03|\n",
      "|  11|Fantastic Beasts ...|Adventure,Family,...|The adventures of...|         David Yates|Eddie Redmayne, K...|                2016|              133|   7.5|232072|            234.02|     66.0|          23402.0|Batch_03|\n",
      "|  12|      Hidden Figures|Biography,Drama,H...|The story of a te...|      Theodore Melfi|Taraji P. Henson,...|                2016|              127|   7.8| 93103|            169.27|     74.0|          16927.0|Batch_03|\n",
      "|  13|           Rogue One|Action,Adventure,...|The Rebel Allianc...|      Gareth Edwards|Felicity Jones, D...|                2016|              133|   7.9|323118|            532.17|     65.0|53216.99999999999|Batch_03|\n",
      "|  14|               Moana|Animation,Adventu...|In Ancient Polyne...|        Ron Clements|Auli'i Cravalho, ...|                2016|              107|   7.7|118151|            248.75|     81.0|          24875.0|Batch_03|\n",
      "|  15|            Colossal| Action,Comedy,Drama|Gloria is an out-...|     Nacho Vigalondo|Anne Hathaway, Ja...|                2016|              109|   6.4|  8612|              2.87|     70.0|            287.0|Batch_03|\n",
      "|  16|The Secret Life o...|Animation,Adventu...|The quiet life of...|        Chris Renaud|Louis C.K., Eric ...|                2016|               87|   6.6|120259|            368.31|     61.0|          36831.0|Batch_03|\n",
      "|  17|       Hacksaw Ridge|Biography,Drama,H...|WWII American Arm...|          Mel Gibson|Andrew Garfield, ...|                2016|              139|   8.2|211760|             67.12|     71.0|           6712.0|Batch_03|\n",
      "|  18|        Jason Bourne|     Action,Thriller|The CIA's most da...|     Paul Greengrass|Matt Damon, Tommy...|                2016|              123|   6.7|150823|            162.16|     58.0|          16216.0|Batch_03|\n",
      "|  19|                Lion|     Biography,Drama|A five-year-old I...|         Garth Davis|Dev Patel, Nicole...|                2016|              118|   8.1|102061|             51.69|     69.0|           5169.0|Batch_03|\n",
      "|  20|             Arrival|Drama,Mystery,Sci-Fi|When twelve myste...|    Denis Villeneuve|Amy Adams, Jeremy...|                2016|              116|     8|340798|             100.5|     81.0|          10050.0|Batch_03|\n",
      "+----+--------------------+--------------------+--------------------+--------------------+--------------------+--------------------+-----------------+------+------+------------------+---------+-----------------+--------+\n",
      "only showing top 20 rows\n",
      "\n"
     ]
    }
   ],
   "source": [
    "movie = movies.withColumn(\"rev_new\",col(\"Revenue (Millions)\")*100).withColumn('batch',lit(\"Batch_03\"))\n",
    "movie.show()"
   ]
  },
  {
   "cell_type": "code",
   "execution_count": null,
   "id": "87061778",
   "metadata": {},
   "outputs": [],
   "source": [
    "# Initiating Spark Session\n",
    "#spark = SparkSession.builder\\.appName(\"MySparkSession\")\\\n",
    "#         .master(\"spark://<spark-master-host:<spark-master-port>\")\\.getOrCreate()\n",
    "# sc = SparkContext(\"local\",...)"
   ]
  },
  {
   "cell_type": "code",
   "execution_count": 9,
   "id": "4a7de397",
   "metadata": {
    "collapsed": true
   },
   "outputs": [
    {
     "data": {
      "text/plain": [
       "1"
      ]
     },
     "execution_count": 9,
     "metadata": {},
     "output_type": "execute_result"
    }
   ],
   "source": [
    "# Partitioning\n",
    "movies.rdd.getNumPartitions()"
   ]
  },
  {
   "cell_type": "code",
   "execution_count": 11,
   "id": "cbaf39b1",
   "metadata": {},
   "outputs": [
    {
     "data": {
      "text/plain": [
       "1"
      ]
     },
     "execution_count": 11,
     "metadata": {},
     "output_type": "execute_result"
    }
   ],
   "source": [
    "parti = movies.repartition(1)\n",
    "parti.rdd.getNumPartitions()"
   ]
  },
  {
   "cell_type": "code",
   "execution_count": 13,
   "id": "01941f86",
   "metadata": {},
   "outputs": [],
   "source": [
    "# Saving a csv file\n",
    "parti.write.csv(\"/home/labuser/out.csv\")"
   ]
  },
  {
   "cell_type": "code",
   "execution_count": 14,
   "id": "c14cd65a",
   "metadata": {},
   "outputs": [
    {
     "data": {
      "text/plain": [
       "10"
      ]
     },
     "execution_count": 14,
     "metadata": {},
     "output_type": "execute_result"
    }
   ],
   "source": [
    "parti = movies.repartition(10)\n",
    "parti.rdd.getNumPartitions()"
   ]
  },
  {
   "cell_type": "code",
   "execution_count": 15,
   "id": "8323dad8",
   "metadata": {},
   "outputs": [
    {
     "name": "stderr",
     "output_type": "stream",
     "text": [
      "\r",
      "[Stage 12:=============================================>           (8 + 2) / 10]\r",
      "\r",
      "                                                                                \r"
     ]
    }
   ],
   "source": [
    "# Saving csv partitions\n",
    "parti.write.csv(\"/home/labuser/test\")"
   ]
  },
  {
   "cell_type": "code",
   "execution_count": 20,
   "id": "5e2200de",
   "metadata": {},
   "outputs": [
    {
     "name": "stdout",
     "output_type": "stream",
     "text": [
      "Spark UI URL: http://ip-172-31-14-120.ap-south-1.compute.internal:4040/\n"
     ]
    }
   ],
   "source": [
    "# Spark UI\n",
    "spark_ui_url = f'{spark._jsc.sc().uiWebUrl().get()}/'\n",
    "print(\"Spark UI URL:\", spark_ui_url)"
   ]
  },
  {
   "cell_type": "code",
   "execution_count": 21,
   "id": "76e63ee6",
   "metadata": {},
   "outputs": [
    {
     "data": {
      "text/plain": [
       "'http://ip-172-31-14-120.ap-south-1.compute.internal:4040'"
      ]
     },
     "execution_count": 21,
     "metadata": {},
     "output_type": "execute_result"
    }
   ],
   "source": [
    "sc.uiWebUrl"
   ]
  },
  {
   "cell_type": "code",
   "execution_count": 22,
   "id": "9532cc41",
   "metadata": {},
   "outputs": [],
   "source": [
    "# Spark SQL\n",
    "movies.createOrReplaceTempView(\"Imdb\")"
   ]
  },
  {
   "cell_type": "code",
   "execution_count": 24,
   "id": "30f92394",
   "metadata": {},
   "outputs": [
    {
     "data": {
      "text/plain": [
       "pyspark.sql.dataframe.DataFrame"
      ]
     },
     "execution_count": 24,
     "metadata": {},
     "output_type": "execute_result"
    }
   ],
   "source": [
    "result = spark.sql(\"select * from Imdb\")\n",
    "type(result)"
   ]
  },
  {
   "cell_type": "code",
   "execution_count": 25,
   "id": "9c29224f",
   "metadata": {
    "collapsed": true
   },
   "outputs": [
    {
     "name": "stdout",
     "output_type": "stream",
     "text": [
      "+----+--------------------+--------------------+--------------------+--------------------+--------------------+--------------------+-----------------+------+------+------------------+---------+\n",
      "|Rank|               Title|               Genre|         Description|            Director|              Actors|                Year|Runtime (Minutes)|Rating| Votes|Revenue (Millions)|Metascore|\n",
      "+----+--------------------+--------------------+--------------------+--------------------+--------------------+--------------------+-----------------+------+------+------------------+---------+\n",
      "|   1|Guardians of the ...|Action,Adventure,...|A group of interg...|          James Gunn|Chris Pratt, Vin ...|                2014|              121|   8.1|757074|            333.13|     76.0|\n",
      "|   2|          Prometheus|Adventure,Mystery...|Following clues t...|        Ridley Scott|Noomi Rapace, Log...|                2012|              124|     7|485820|            126.46|     65.0|\n",
      "|   3|               Split|     Horror,Thriller|Three girls are k...|  M. Night Shyamalan|James McAvoy, Any...|                2016|              117|   7.3|157606|            138.12|     62.0|\n",
      "|   4|                Sing|Animation,Comedy,...|In a city of huma...|Christophe Lourdelet|Matthew McConaugh...|                2016|              108|   7.2| 60545|            270.32|     59.0|\n",
      "|   5|       Suicide Squad|Action,Adventure,...|A secret governme...|          David Ayer|Will Smith, Jared...|                2016|              123|   6.2|393727|            325.02|     40.0|\n",
      "|   6|      The Great Wall|Action,Adventure,...|European mercenar...|         Yimou Zhang|Matt Damon, Tian ...|                2016|              103|   6.1| 56036|             45.13|     42.0|\n",
      "|   7|          La La Land|  Comedy,Drama,Music|A jazz pianist fa...|     Damien Chazelle|Ryan Gosling, Emm...|                2016|              128|   8.3|258682|            151.06|     93.0|\n",
      "|   8|            Mindhorn|              Comedy|\"A has-been actor...| whom he believes...|          Sean Foley|Essie Davis, Andr...|             2016|    89|   6.4|            2490.0|     null|\n",
      "|   9|  The Lost City of Z|Action,Adventure,...|A true-life drama...|          James Gray|Charlie Hunnam, R...|                2016|              141|   7.1|  7188|              8.01|     78.0|\n",
      "|  10|          Passengers|Adventure,Drama,R...|A spacecraft trav...|       Morten Tyldum|Jennifer Lawrence...|                2016|              116|     7|192177|            100.01|     41.0|\n",
      "|  11|Fantastic Beasts ...|Adventure,Family,...|The adventures of...|         David Yates|Eddie Redmayne, K...|                2016|              133|   7.5|232072|            234.02|     66.0|\n",
      "|  12|      Hidden Figures|Biography,Drama,H...|The story of a te...|      Theodore Melfi|Taraji P. Henson,...|                2016|              127|   7.8| 93103|            169.27|     74.0|\n",
      "|  13|           Rogue One|Action,Adventure,...|The Rebel Allianc...|      Gareth Edwards|Felicity Jones, D...|                2016|              133|   7.9|323118|            532.17|     65.0|\n",
      "|  14|               Moana|Animation,Adventu...|In Ancient Polyne...|        Ron Clements|Auli'i Cravalho, ...|                2016|              107|   7.7|118151|            248.75|     81.0|\n",
      "|  15|            Colossal| Action,Comedy,Drama|Gloria is an out-...|     Nacho Vigalondo|Anne Hathaway, Ja...|                2016|              109|   6.4|  8612|              2.87|     70.0|\n",
      "|  16|The Secret Life o...|Animation,Adventu...|The quiet life of...|        Chris Renaud|Louis C.K., Eric ...|                2016|               87|   6.6|120259|            368.31|     61.0|\n",
      "|  17|       Hacksaw Ridge|Biography,Drama,H...|WWII American Arm...|          Mel Gibson|Andrew Garfield, ...|                2016|              139|   8.2|211760|             67.12|     71.0|\n",
      "|  18|        Jason Bourne|     Action,Thriller|The CIA's most da...|     Paul Greengrass|Matt Damon, Tommy...|                2016|              123|   6.7|150823|            162.16|     58.0|\n",
      "|  19|                Lion|     Biography,Drama|A five-year-old I...|         Garth Davis|Dev Patel, Nicole...|                2016|              118|   8.1|102061|             51.69|     69.0|\n",
      "|  20|             Arrival|Drama,Mystery,Sci-Fi|When twelve myste...|    Denis Villeneuve|Amy Adams, Jeremy...|                2016|              116|     8|340798|             100.5|     81.0|\n",
      "+----+--------------------+--------------------+--------------------+--------------------+--------------------+--------------------+-----------------+------+------+------------------+---------+\n",
      "only showing top 20 rows\n",
      "\n"
     ]
    }
   ],
   "source": [
    "result.show()"
   ]
  },
  {
   "cell_type": "code",
   "execution_count": 26,
   "id": "acfa9653",
   "metadata": {
    "collapsed": true
   },
   "outputs": [
    {
     "name": "stdout",
     "output_type": "stream",
     "text": [
      "+----+--------------------+\n",
      "|Rank|               Title|\n",
      "+----+--------------------+\n",
      "|   1|Guardians of the ...|\n",
      "|   2|          Prometheus|\n",
      "|   3|               Split|\n",
      "|   4|                Sing|\n",
      "|   5|       Suicide Squad|\n",
      "|   6|      The Great Wall|\n",
      "|   7|          La La Land|\n",
      "|   8|            Mindhorn|\n",
      "|   9|  The Lost City of Z|\n",
      "|  10|          Passengers|\n",
      "|  11|Fantastic Beasts ...|\n",
      "|  12|      Hidden Figures|\n",
      "|  13|           Rogue One|\n",
      "|  14|               Moana|\n",
      "|  15|            Colossal|\n",
      "|  16|The Secret Life o...|\n",
      "|  17|       Hacksaw Ridge|\n",
      "|  18|        Jason Bourne|\n",
      "|  19|                Lion|\n",
      "|  20|             Arrival|\n",
      "+----+--------------------+\n",
      "only showing top 20 rows\n",
      "\n"
     ]
    }
   ],
   "source": [
    "res = spark.sql(\"select Rank, Title from Imdb\")\n",
    "res.show()"
   ]
  },
  {
   "cell_type": "code",
   "execution_count": 30,
   "id": "3aa0142c",
   "metadata": {
    "collapsed": true
   },
   "outputs": [
    {
     "name": "stdout",
     "output_type": "stream",
     "text": [
      "+----+--------------------+--------------------+--------------------+--------------------+--------------------+--------------------+-----------------+------+------+------------------+---------+\n",
      "|Rank|               Title|               Genre|         Description|            Director|              Actors|                Year|Runtime (Minutes)|Rating| Votes|Revenue (Millions)|Metascore|\n",
      "+----+--------------------+--------------------+--------------------+--------------------+--------------------+--------------------+-----------------+------+------+------------------+---------+\n",
      "|  75|            Zootopia|Animation,Adventu...|In a city of anth...|        Byron Howard|Ginnifer Goodwin,...|                2016|              108|   8.1|296853|            341.26|     78.0|\n",
      "| 432|         Zoolander 2|              Comedy|Derek and Hansel ...|         Ben Stiller|Ben Stiller, Owen...|                2016|              102|   4.7| 48297|             28.84|     34.0|\n",
      "| 364|          Zombieland|Adventure,Comedy,...|A shy student try...|     Ruben Fleischer|Jesse Eisenberg, ...|                2009|               88|   7.7|409403|             75.59|     73.0|\n",
      "| 278|              Zodiac| Crime,Drama,History|In the late 1960s...|       David Fincher|Jake Gyllenhaal, ...|                2007|              157|   7.7|329683|             33.05|     78.0|\n",
      "| 545|              Zipper|      Drama,Thriller|A successful fami...|       Mora Stephens|Patrick Wilson, L...|                2015|              103|   5.7|  4912|              null|     39.0|\n",
      "| 407|    Zero Dark Thirty|Drama,History,Thr...|A chronicle of th...|     Kathryn Bigelow|Jessica Chastain,...|                2012|              157|   7.4|226661|             95.72|     95.0|\n",
      "| 793|Zack and Miri Mak...|      Comedy,Romance|Lifelong platonic...|         Kevin Smith|Seth Rogen, Eliza...|                2008|              101|   6.6|154936|             31.45|     56.0|\n",
      "| 504|               Youth|  Comedy,Drama,Music|A retired orchest...|    Paolo Sorrentino|Michael Caine, Ha...|                2015|              124|   7.3| 52636|               2.7|     64.0|\n",
      "| 986|       Your Highness|Adventure,Comedy,...|When Prince Fabio...|  David Gordon Green|Danny McBride, Na...|                2011|              102|   5.6| 87904|             21.56|     31.0|\n",
      "| 838|You Don't Mess wi...|       Action,Comedy|An Israeli Specia...|        Dennis Dugan|Adam Sandler, Joh...|                2008|              113|   5.5|163144|            100.02|     54.0|\n",
      "| 801|         Yoga Hosers|Comedy,Fantasy,Ho...|Two teenage yoga ...|         Kevin Smith|Lily-Rose Depp, H...|                2016|               88|   4.3|  7091|              null|     23.0|\n",
      "| 206|      X: First Class|Action,Adventure,...|In 1962, the Unit...|      Matthew Vaughn|James McAvoy, Mic...|                2011|              132|   7.8|550011|            146.41|     65.0|\n",
      "| 627|X-Men: The Last S...|Action,Adventure,...|When a cure is fo...|        Brett Ratner|Patrick Stewart, ...|                2006|              104|   6.7|406540|            234.36|     58.0|\n",
      "| 163|X-Men: Days of Fu...|Action,Adventure,...|The X-Men send Wo...|        Bryan Singer|Patrick Stewart, ...|                2014|              132|     8|552298|            233.91|     74.0|\n",
      "|  33|   X-Men: Apocalypse|Action,Adventure,...|After the re-emer...|        Bryan Singer|James McAvoy, Mic...|                2016|              144|   7.1|275510|            155.33|     52.0|\n",
      "| 269|X-Men Origins: Wo...|Action,Adventure,...|A look at Wolveri...|          Gavin Hood|Hugh Jackman, Lie...|                2009|              107|   6.7|388447|            179.88|     40.0|\n",
      "| 969|             Wrecker|Action,Horror,Thr...|\"Best friends Emi...|\"\" they become th...|      Micheal Bafaro|Anna Hutchison, A...|             2015|    83|   3.5|            1210.0|     null|\n",
      "| 564|      Wreck-It Ralph|Animation,Adventu...|A video game vill...|          Rich Moore|John C. Reilly, J...|                2012|              101|   7.8|290559|            189.41|     72.0|\n",
      "| 880| Wrath of the Titans|Action,Adventure,...|Perseus braves th...|  Jonathan Liebesman|Sam Worthington, ...|                2012|               99|   5.8|159230|             83.64|     37.0|\n",
      "| 433|         World War Z|Action,Adventure,...|Former United Nat...|        Marc Forster|Brad Pitt, Mireil...|                2013|              116|     7|494819|            202.35|     63.0|\n",
      "+----+--------------------+--------------------+--------------------+--------------------+--------------------+--------------------+-----------------+------+------+------------------+---------+\n",
      "only showing top 20 rows\n",
      "\n"
     ]
    }
   ],
   "source": [
    "# Sorting based on columns\n",
    "testsort = movies.sort(col(\"Title\").desc())\n",
    "testsort.show()"
   ]
  },
  {
   "cell_type": "code",
   "execution_count": 31,
   "id": "73c54174",
   "metadata": {},
   "outputs": [
    {
     "data": {
      "text/plain": [
       "DataFrame[Title: string, Rank: int]"
      ]
     },
     "execution_count": 31,
     "metadata": {},
     "output_type": "execute_result"
    }
   ],
   "source": [
    "# Select transformation to extract columns\n",
    "movies.select('Title','Rank')"
   ]
  },
  {
   "cell_type": "code",
   "execution_count": 36,
   "id": "89903e42",
   "metadata": {
    "collapsed": true
   },
   "outputs": [
    {
     "name": "stdout",
     "output_type": "stream",
     "text": [
      "+----+--------------------+--------------------+--------------------+--------------------+--------------------+--------------------+-----------------+------+------+------------------+---------+--------------------+\n",
      "|Rank|               Title|               Genre|         Description|            Director|              Actors|                Year|Runtime (Minutes)|Rating| Votes|Revenue (Millions)|Metascore|     last_updated_ts|\n",
      "+----+--------------------+--------------------+--------------------+--------------------+--------------------+--------------------+-----------------+------+------+------------------+---------+--------------------+\n",
      "|   1|Guardians of the ...|Action,Adventure,...|A group of interg...|          James Gunn|Chris Pratt, Vin ...|                2014|              121|   8.1|757074|            333.13|     76.0|2023-09-22 05:40:...|\n",
      "|   2|          Prometheus|Adventure,Mystery...|Following clues t...|        Ridley Scott|Noomi Rapace, Log...|                2012|              124|     7|485820|            126.46|     65.0|2023-09-22 05:40:...|\n",
      "|   3|               Split|     Horror,Thriller|Three girls are k...|  M. Night Shyamalan|James McAvoy, Any...|                2016|              117|   7.3|157606|            138.12|     62.0|2023-09-22 05:40:...|\n",
      "|   4|                Sing|Animation,Comedy,...|In a city of huma...|Christophe Lourdelet|Matthew McConaugh...|                2016|              108|   7.2| 60545|            270.32|     59.0|2023-09-22 05:40:...|\n",
      "|   5|       Suicide Squad|Action,Adventure,...|A secret governme...|          David Ayer|Will Smith, Jared...|                2016|              123|   6.2|393727|            325.02|     40.0|2023-09-22 05:40:...|\n",
      "|   6|      The Great Wall|Action,Adventure,...|European mercenar...|         Yimou Zhang|Matt Damon, Tian ...|                2016|              103|   6.1| 56036|             45.13|     42.0|2023-09-22 05:40:...|\n",
      "|   7|          La La Land|  Comedy,Drama,Music|A jazz pianist fa...|     Damien Chazelle|Ryan Gosling, Emm...|                2016|              128|   8.3|258682|            151.06|     93.0|2023-09-22 05:40:...|\n",
      "|   8|            Mindhorn|              Comedy|\"A has-been actor...| whom he believes...|          Sean Foley|Essie Davis, Andr...|             2016|    89|   6.4|            2490.0|     null|2023-09-22 05:40:...|\n",
      "|   9|  The Lost City of Z|Action,Adventure,...|A true-life drama...|          James Gray|Charlie Hunnam, R...|                2016|              141|   7.1|  7188|              8.01|     78.0|2023-09-22 05:40:...|\n",
      "|  10|          Passengers|Adventure,Drama,R...|A spacecraft trav...|       Morten Tyldum|Jennifer Lawrence...|                2016|              116|     7|192177|            100.01|     41.0|2023-09-22 05:40:...|\n",
      "|  11|Fantastic Beasts ...|Adventure,Family,...|The adventures of...|         David Yates|Eddie Redmayne, K...|                2016|              133|   7.5|232072|            234.02|     66.0|2023-09-22 05:40:...|\n",
      "|  12|      Hidden Figures|Biography,Drama,H...|The story of a te...|      Theodore Melfi|Taraji P. Henson,...|                2016|              127|   7.8| 93103|            169.27|     74.0|2023-09-22 05:40:...|\n",
      "|  13|           Rogue One|Action,Adventure,...|The Rebel Allianc...|      Gareth Edwards|Felicity Jones, D...|                2016|              133|   7.9|323118|            532.17|     65.0|2023-09-22 05:40:...|\n",
      "|  14|               Moana|Animation,Adventu...|In Ancient Polyne...|        Ron Clements|Auli'i Cravalho, ...|                2016|              107|   7.7|118151|            248.75|     81.0|2023-09-22 05:40:...|\n",
      "|  15|            Colossal| Action,Comedy,Drama|Gloria is an out-...|     Nacho Vigalondo|Anne Hathaway, Ja...|                2016|              109|   6.4|  8612|              2.87|     70.0|2023-09-22 05:40:...|\n",
      "|  16|The Secret Life o...|Animation,Adventu...|The quiet life of...|        Chris Renaud|Louis C.K., Eric ...|                2016|               87|   6.6|120259|            368.31|     61.0|2023-09-22 05:40:...|\n",
      "|  17|       Hacksaw Ridge|Biography,Drama,H...|WWII American Arm...|          Mel Gibson|Andrew Garfield, ...|                2016|              139|   8.2|211760|             67.12|     71.0|2023-09-22 05:40:...|\n",
      "|  18|        Jason Bourne|     Action,Thriller|The CIA's most da...|     Paul Greengrass|Matt Damon, Tommy...|                2016|              123|   6.7|150823|            162.16|     58.0|2023-09-22 05:40:...|\n",
      "|  19|                Lion|     Biography,Drama|A five-year-old I...|         Garth Davis|Dev Patel, Nicole...|                2016|              118|   8.1|102061|             51.69|     69.0|2023-09-22 05:40:...|\n",
      "|  20|             Arrival|Drama,Mystery,Sci-Fi|When twelve myste...|    Denis Villeneuve|Amy Adams, Jeremy...|                2016|              116|     8|340798|             100.5|     81.0|2023-09-22 05:40:...|\n",
      "+----+--------------------+--------------------+--------------------+--------------------+--------------------+--------------------+-----------------+------+------+------------------+---------+--------------------+\n",
      "only showing top 20 rows\n",
      "\n"
     ]
    }
   ],
   "source": [
    "# Creating new last_updated_time column\n",
    "from datetime import datetime\n",
    "df = movies.withColumn('last_updated_ts',lit(datetime.now()))\n",
    "df.show()"
   ]
  },
  {
   "cell_type": "code",
   "execution_count": 37,
   "id": "a5967bc5",
   "metadata": {
    "collapsed": true
   },
   "outputs": [
    {
     "name": "stdout",
     "output_type": "stream",
     "text": [
      "+----------+--------------------+\n",
      "|      test|               Title|\n",
      "+----------+--------------------+\n",
      "|2023-09-22|Guardians of the ...|\n",
      "|2023-09-22|          Prometheus|\n",
      "|2023-09-22|               Split|\n",
      "|2023-09-22|                Sing|\n",
      "|2023-09-22|       Suicide Squad|\n",
      "|2023-09-22|      The Great Wall|\n",
      "|2023-09-22|          La La Land|\n",
      "|2023-09-22|            Mindhorn|\n",
      "|2023-09-22|  The Lost City of Z|\n",
      "|2023-09-22|          Passengers|\n",
      "|2023-09-22|Fantastic Beasts ...|\n",
      "|2023-09-22|      Hidden Figures|\n",
      "|2023-09-22|           Rogue One|\n",
      "|2023-09-22|               Moana|\n",
      "|2023-09-22|            Colossal|\n",
      "|2023-09-22|The Secret Life o...|\n",
      "|2023-09-22|       Hacksaw Ridge|\n",
      "|2023-09-22|        Jason Bourne|\n",
      "|2023-09-22|                Lion|\n",
      "|2023-09-22|             Arrival|\n",
      "+----------+--------------------+\n",
      "only showing top 20 rows\n",
      "\n"
     ]
    }
   ],
   "source": [
    "# CAST\n",
    "dftest = df.selectExpr('CAST(last_updated_ts AS DATE) AS test','Title')\n",
    "dftest.show()"
   ]
  },
  {
   "cell_type": "code",
   "execution_count": 39,
   "id": "dc373f10",
   "metadata": {
    "collapsed": true
   },
   "outputs": [
    {
     "name": "stdout",
     "output_type": "stream",
     "text": [
      "+--------------------+\n",
      "|           MovieName|\n",
      "+--------------------+\n",
      "|Guardians of the ...|\n",
      "|          Prometheus|\n",
      "|               Split|\n",
      "|                Sing|\n",
      "|       Suicide Squad|\n",
      "|      The Great Wall|\n",
      "|          La La Land|\n",
      "|            Mindhorn|\n",
      "|  The Lost City of Z|\n",
      "|          Passengers|\n",
      "|Fantastic Beasts ...|\n",
      "|      Hidden Figures|\n",
      "|           Rogue One|\n",
      "|               Moana|\n",
      "|            Colossal|\n",
      "|The Secret Life o...|\n",
      "|       Hacksaw Ridge|\n",
      "|        Jason Bourne|\n",
      "|                Lion|\n",
      "|             Arrival|\n",
      "+--------------------+\n",
      "only showing top 20 rows\n",
      "\n"
     ]
    }
   ],
   "source": [
    "# Column alias\n",
    "dftest.select(col(\"Title\").alias(\"MovieName\")).show()"
   ]
  },
  {
   "cell_type": "code",
   "execution_count": 40,
   "id": "fda8dfc3",
   "metadata": {},
   "outputs": [
    {
     "data": {
      "text/plain": [
       "646"
      ]
     },
     "execution_count": 40,
     "metadata": {},
     "output_type": "execute_result"
    }
   ],
   "source": [
    "# Dropping duplicates based on certain columns\n",
    "dropped = movies.dropDuplicates([\"Director\"])\n",
    "dropped.count()"
   ]
  },
  {
   "cell_type": "code",
   "execution_count": 41,
   "id": "c4e2276e",
   "metadata": {},
   "outputs": [
    {
     "data": {
      "text/plain": [
       "1000"
      ]
     },
     "execution_count": 41,
     "metadata": {},
     "output_type": "execute_result"
    }
   ],
   "source": [
    "movies.count()"
   ]
  },
  {
   "cell_type": "code",
   "execution_count": 46,
   "id": "0039487c",
   "metadata": {
    "collapsed": true
   },
   "outputs": [
    {
     "name": "stdout",
     "output_type": "stream",
     "text": [
      "+----+--------------------+--------------------+--------------------+--------------------+--------------------+--------------------+-----------------+------+------+------------------+---------+------------+\n",
      "|Rank|               Title|               Genre|         Description|            Director|              Actors|                Year|Runtime (Minutes)|Rating| Votes|Revenue (Millions)|Metascore|rating_value|\n",
      "+----+--------------------+--------------------+--------------------+--------------------+--------------------+--------------------+-----------------+------+------+------------------+---------+------------+\n",
      "|   1|Guardians of the ...|Action,Adventure,...|A group of interg...|          James Gunn|Chris Pratt, Vin ...|                2014|              121|   8.1|757074|            333.13|     76.0|        Best|\n",
      "|   2|          Prometheus|Adventure,Mystery...|Following clues t...|        Ridley Scott|Noomi Rapace, Log...|                2012|              124|     7|485820|            126.46|     65.0|        Good|\n",
      "|   3|               Split|     Horror,Thriller|Three girls are k...|  M. Night Shyamalan|James McAvoy, Any...|                2016|              117|   7.3|157606|            138.12|     62.0|        Good|\n",
      "|   4|                Sing|Animation,Comedy,...|In a city of huma...|Christophe Lourdelet|Matthew McConaugh...|                2016|              108|   7.2| 60545|            270.32|     59.0|        Good|\n",
      "|   5|       Suicide Squad|Action,Adventure,...|A secret governme...|          David Ayer|Will Smith, Jared...|                2016|              123|   6.2|393727|            325.02|     40.0|        Good|\n",
      "|   6|      The Great Wall|Action,Adventure,...|European mercenar...|         Yimou Zhang|Matt Damon, Tian ...|                2016|              103|   6.1| 56036|             45.13|     42.0|        Good|\n",
      "|   7|          La La Land|  Comedy,Drama,Music|A jazz pianist fa...|     Damien Chazelle|Ryan Gosling, Emm...|                2016|              128|   8.3|258682|            151.06|     93.0|        Best|\n",
      "|   8|            Mindhorn|              Comedy|\"A has-been actor...| whom he believes...|          Sean Foley|Essie Davis, Andr...|             2016|    89|   6.4|            2490.0|     null|        Good|\n",
      "|   9|  The Lost City of Z|Action,Adventure,...|A true-life drama...|          James Gray|Charlie Hunnam, R...|                2016|              141|   7.1|  7188|              8.01|     78.0|        Good|\n",
      "|  10|          Passengers|Adventure,Drama,R...|A spacecraft trav...|       Morten Tyldum|Jennifer Lawrence...|                2016|              116|     7|192177|            100.01|     41.0|        Good|\n",
      "|  11|Fantastic Beasts ...|Adventure,Family,...|The adventures of...|         David Yates|Eddie Redmayne, K...|                2016|              133|   7.5|232072|            234.02|     66.0|        Good|\n",
      "|  12|      Hidden Figures|Biography,Drama,H...|The story of a te...|      Theodore Melfi|Taraji P. Henson,...|                2016|              127|   7.8| 93103|            169.27|     74.0|        Good|\n",
      "|  13|           Rogue One|Action,Adventure,...|The Rebel Allianc...|      Gareth Edwards|Felicity Jones, D...|                2016|              133|   7.9|323118|            532.17|     65.0|        Good|\n",
      "|  14|               Moana|Animation,Adventu...|In Ancient Polyne...|        Ron Clements|Auli'i Cravalho, ...|                2016|              107|   7.7|118151|            248.75|     81.0|        Good|\n",
      "|  15|            Colossal| Action,Comedy,Drama|Gloria is an out-...|     Nacho Vigalondo|Anne Hathaway, Ja...|                2016|              109|   6.4|  8612|              2.87|     70.0|        Good|\n",
      "|  16|The Secret Life o...|Animation,Adventu...|The quiet life of...|        Chris Renaud|Louis C.K., Eric ...|                2016|               87|   6.6|120259|            368.31|     61.0|        Good|\n",
      "|  17|       Hacksaw Ridge|Biography,Drama,H...|WWII American Arm...|          Mel Gibson|Andrew Garfield, ...|                2016|              139|   8.2|211760|             67.12|     71.0|        Best|\n",
      "|  18|        Jason Bourne|     Action,Thriller|The CIA's most da...|     Paul Greengrass|Matt Damon, Tommy...|                2016|              123|   6.7|150823|            162.16|     58.0|        Good|\n",
      "|  19|                Lion|     Biography,Drama|A five-year-old I...|         Garth Davis|Dev Patel, Nicole...|                2016|              118|   8.1|102061|             51.69|     69.0|        Best|\n",
      "|  20|             Arrival|Drama,Mystery,Sci-Fi|When twelve myste...|    Denis Villeneuve|Amy Adams, Jeremy...|                2016|              116|     8|340798|             100.5|     81.0|        Best|\n",
      "+----+--------------------+--------------------+--------------------+--------------------+--------------------+--------------------+-----------------+------+------+------------------+---------+------------+\n",
      "only showing top 20 rows\n",
      "\n"
     ]
    }
   ],
   "source": [
    "# When-Otherwise in Spark\n",
    "# Create a new column based on Rating\n",
    "rate = movies.withColumn(\"rating_value\", when((col(\"Rating\")>=8) & (col(\"Rating\")<=10),\"Best\").when(col(\"Rating\")>=5,\"Good\").when(col(\"Rating\")>=0,\"Average\").otherwise(\"NA\"))\n",
    "rate.show()                        "
   ]
  },
  {
   "cell_type": "code",
   "execution_count": 9,
   "id": "b9134109",
   "metadata": {},
   "outputs": [],
   "source": [
    "def concat_shell(column):\n",
    "    return column + \"_shell\""
   ]
  },
  {
   "cell_type": "code",
   "execution_count": 10,
   "id": "f3f5b263",
   "metadata": {},
   "outputs": [],
   "source": [
    "my_udf = udf(concat_shell,StringType())"
   ]
  },
  {
   "cell_type": "code",
   "execution_count": 11,
   "id": "055451b8",
   "metadata": {},
   "outputs": [
    {
     "data": {
      "text/plain": [
       "'test_shell'"
      ]
     },
     "execution_count": 11,
     "metadata": {},
     "output_type": "execute_result"
    }
   ],
   "source": [
    "concat_shell(\"test\")"
   ]
  },
  {
   "cell_type": "code",
   "execution_count": 12,
   "id": "07a59208",
   "metadata": {},
   "outputs": [],
   "source": [
    "#from pyspark.sql.functions import *\n",
    "test = movies.withColumn(\"new_col\",my_udf(col(\"Title\")))"
   ]
  },
  {
   "cell_type": "code",
   "execution_count": 13,
   "id": "64779515",
   "metadata": {
    "collapsed": true
   },
   "outputs": [
    {
     "name": "stderr",
     "output_type": "stream",
     "text": [
      "\r",
      "[Stage 3:>                                                          (0 + 1) / 1]\r"
     ]
    },
    {
     "name": "stdout",
     "output_type": "stream",
     "text": [
      "+----+--------------------+--------------------+--------------------+--------------------+--------------------+--------------------+-----------------+------+------+------------------+---------+--------------------+\n",
      "|Rank|               Title|               Genre|         Description|            Director|              Actors|                Year|Runtime (Minutes)|Rating| Votes|Revenue (Millions)|Metascore|             new_col|\n",
      "+----+--------------------+--------------------+--------------------+--------------------+--------------------+--------------------+-----------------+------+------+------------------+---------+--------------------+\n",
      "|   1|Guardians of the ...|Action,Adventure,...|A group of interg...|          James Gunn|Chris Pratt, Vin ...|                2014|              121|   8.1|757074|            333.13|     76.0|Guardians of the ...|\n",
      "|   2|          Prometheus|Adventure,Mystery...|Following clues t...|        Ridley Scott|Noomi Rapace, Log...|                2012|              124|     7|485820|            126.46|     65.0|    Prometheus_shell|\n",
      "|   3|               Split|     Horror,Thriller|Three girls are k...|  M. Night Shyamalan|James McAvoy, Any...|                2016|              117|   7.3|157606|            138.12|     62.0|         Split_shell|\n",
      "|   4|                Sing|Animation,Comedy,...|In a city of huma...|Christophe Lourdelet|Matthew McConaugh...|                2016|              108|   7.2| 60545|            270.32|     59.0|          Sing_shell|\n",
      "|   5|       Suicide Squad|Action,Adventure,...|A secret governme...|          David Ayer|Will Smith, Jared...|                2016|              123|   6.2|393727|            325.02|     40.0| Suicide Squad_shell|\n",
      "|   6|      The Great Wall|Action,Adventure,...|European mercenar...|         Yimou Zhang|Matt Damon, Tian ...|                2016|              103|   6.1| 56036|             45.13|     42.0|The Great Wall_shell|\n",
      "|   7|          La La Land|  Comedy,Drama,Music|A jazz pianist fa...|     Damien Chazelle|Ryan Gosling, Emm...|                2016|              128|   8.3|258682|            151.06|     93.0|    La La Land_shell|\n",
      "|   8|            Mindhorn|              Comedy|\"A has-been actor...| whom he believes...|          Sean Foley|Essie Davis, Andr...|             2016|    89|   6.4|            2490.0|     null|      Mindhorn_shell|\n",
      "|   9|  The Lost City of Z|Action,Adventure,...|A true-life drama...|          James Gray|Charlie Hunnam, R...|                2016|              141|   7.1|  7188|              8.01|     78.0|The Lost City of ...|\n",
      "|  10|          Passengers|Adventure,Drama,R...|A spacecraft trav...|       Morten Tyldum|Jennifer Lawrence...|                2016|              116|     7|192177|            100.01|     41.0|    Passengers_shell|\n",
      "|  11|Fantastic Beasts ...|Adventure,Family,...|The adventures of...|         David Yates|Eddie Redmayne, K...|                2016|              133|   7.5|232072|            234.02|     66.0|Fantastic Beasts ...|\n",
      "|  12|      Hidden Figures|Biography,Drama,H...|The story of a te...|      Theodore Melfi|Taraji P. Henson,...|                2016|              127|   7.8| 93103|            169.27|     74.0|Hidden Figures_shell|\n",
      "|  13|           Rogue One|Action,Adventure,...|The Rebel Allianc...|      Gareth Edwards|Felicity Jones, D...|                2016|              133|   7.9|323118|            532.17|     65.0|     Rogue One_shell|\n",
      "|  14|               Moana|Animation,Adventu...|In Ancient Polyne...|        Ron Clements|Auli'i Cravalho, ...|                2016|              107|   7.7|118151|            248.75|     81.0|         Moana_shell|\n",
      "|  15|            Colossal| Action,Comedy,Drama|Gloria is an out-...|     Nacho Vigalondo|Anne Hathaway, Ja...|                2016|              109|   6.4|  8612|              2.87|     70.0|      Colossal_shell|\n",
      "|  16|The Secret Life o...|Animation,Adventu...|The quiet life of...|        Chris Renaud|Louis C.K., Eric ...|                2016|               87|   6.6|120259|            368.31|     61.0|The Secret Life o...|\n",
      "|  17|       Hacksaw Ridge|Biography,Drama,H...|WWII American Arm...|          Mel Gibson|Andrew Garfield, ...|                2016|              139|   8.2|211760|             67.12|     71.0| Hacksaw Ridge_shell|\n",
      "|  18|        Jason Bourne|     Action,Thriller|The CIA's most da...|     Paul Greengrass|Matt Damon, Tommy...|                2016|              123|   6.7|150823|            162.16|     58.0|  Jason Bourne_shell|\n",
      "|  19|                Lion|     Biography,Drama|A five-year-old I...|         Garth Davis|Dev Patel, Nicole...|                2016|              118|   8.1|102061|             51.69|     69.0|          Lion_shell|\n",
      "|  20|             Arrival|Drama,Mystery,Sci-Fi|When twelve myste...|    Denis Villeneuve|Amy Adams, Jeremy...|                2016|              116|     8|340798|             100.5|     81.0|       Arrival_shell|\n",
      "+----+--------------------+--------------------+--------------------+--------------------+--------------------+--------------------+-----------------+------+------+------------------+---------+--------------------+\n",
      "only showing top 20 rows\n",
      "\n"
     ]
    },
    {
     "name": "stderr",
     "output_type": "stream",
     "text": [
      "\r",
      "                                                                                \r"
     ]
    }
   ],
   "source": [
    "test.show()"
   ]
  },
  {
   "cell_type": "code",
   "execution_count": 15,
   "id": "11ba0c28",
   "metadata": {
    "collapsed": true
   },
   "outputs": [
    {
     "name": "stdout",
     "output_type": "stream",
     "text": [
      "+----+--------------------+--------------------+--------------------+------------+--------------------+----+-----------------+------+------+------------------+---------+\n",
      "|Rank|               Title|               Genre|         Description|    Director|              Actors|Year|Runtime (Minutes)|Rating| Votes|Revenue (Millions)|Metascore|\n",
      "+----+--------------------+--------------------+--------------------+------------+--------------------+----+-----------------+------+------+------------------+---------+\n",
      "|   1|Guardians of the ...|Action,Adventure,...|A group of interg...|  James Gunn|Chris Pratt, Vin ...|2014|              121|   8.1|757074|            333.13|     76.0|\n",
      "|   2|          Prometheus|Adventure,Mystery...|Following clues t...|Ridley Scott|Noomi Rapace, Log...|2012|              124|     7|485820|            126.46|     65.0|\n",
      "+----+--------------------+--------------------+--------------------+------------+--------------------+----+-----------------+------+------+------------------+---------+\n",
      "only showing top 2 rows\n",
      "\n"
     ]
    }
   ],
   "source": [
    "movies.show(2)"
   ]
  },
  {
   "cell_type": "code",
   "execution_count": 16,
   "id": "3eccf807",
   "metadata": {},
   "outputs": [],
   "source": [
    "new = movies.cache()"
   ]
  },
  {
   "cell_type": "code",
   "execution_count": 18,
   "id": "f2df3224",
   "metadata": {
    "collapsed": true
   },
   "outputs": [
    {
     "name": "stdout",
     "output_type": "stream",
     "text": [
      "+----+--------------------+--------------------+--------------------+--------------------+--------------------+--------------------+-----------------+------+------+------------------+---------+\n",
      "|Rank|               Title|               Genre|         Description|            Director|              Actors|                Year|Runtime (Minutes)|Rating| Votes|Revenue (Millions)|Metascore|\n",
      "+----+--------------------+--------------------+--------------------+--------------------+--------------------+--------------------+-----------------+------+------+------------------+---------+\n",
      "|   1|Guardians of the ...|Action,Adventure,...|A group of interg...|          James Gunn|Chris Pratt, Vin ...|                2014|              121|   8.1|757074|            333.13|     76.0|\n",
      "|   2|          Prometheus|Adventure,Mystery...|Following clues t...|        Ridley Scott|Noomi Rapace, Log...|                2012|              124|     7|485820|            126.46|     65.0|\n",
      "|   3|               Split|     Horror,Thriller|Three girls are k...|  M. Night Shyamalan|James McAvoy, Any...|                2016|              117|   7.3|157606|            138.12|     62.0|\n",
      "|   4|                Sing|Animation,Comedy,...|In a city of huma...|Christophe Lourdelet|Matthew McConaugh...|                2016|              108|   7.2| 60545|            270.32|     59.0|\n",
      "|   5|       Suicide Squad|Action,Adventure,...|A secret governme...|          David Ayer|Will Smith, Jared...|                2016|              123|   6.2|393727|            325.02|     40.0|\n",
      "|   6|      The Great Wall|Action,Adventure,...|European mercenar...|         Yimou Zhang|Matt Damon, Tian ...|                2016|              103|   6.1| 56036|             45.13|     42.0|\n",
      "|   7|          La La Land|  Comedy,Drama,Music|A jazz pianist fa...|     Damien Chazelle|Ryan Gosling, Emm...|                2016|              128|   8.3|258682|            151.06|     93.0|\n",
      "|   8|            Mindhorn|              Comedy|\"A has-been actor...| whom he believes...|          Sean Foley|Essie Davis, Andr...|             2016|    89|   6.4|            2490.0|     null|\n",
      "|   9|  The Lost City of Z|Action,Adventure,...|A true-life drama...|          James Gray|Charlie Hunnam, R...|                2016|              141|   7.1|  7188|              8.01|     78.0|\n",
      "|  10|          Passengers|Adventure,Drama,R...|A spacecraft trav...|       Morten Tyldum|Jennifer Lawrence...|                2016|              116|     7|192177|            100.01|     41.0|\n",
      "|  11|Fantastic Beasts ...|Adventure,Family,...|The adventures of...|         David Yates|Eddie Redmayne, K...|                2016|              133|   7.5|232072|            234.02|     66.0|\n",
      "|  12|      Hidden Figures|Biography,Drama,H...|The story of a te...|      Theodore Melfi|Taraji P. Henson,...|                2016|              127|   7.8| 93103|            169.27|     74.0|\n",
      "|  13|           Rogue One|Action,Adventure,...|The Rebel Allianc...|      Gareth Edwards|Felicity Jones, D...|                2016|              133|   7.9|323118|            532.17|     65.0|\n",
      "|  14|               Moana|Animation,Adventu...|In Ancient Polyne...|        Ron Clements|Auli'i Cravalho, ...|                2016|              107|   7.7|118151|            248.75|     81.0|\n",
      "|  15|            Colossal| Action,Comedy,Drama|Gloria is an out-...|     Nacho Vigalondo|Anne Hathaway, Ja...|                2016|              109|   6.4|  8612|              2.87|     70.0|\n",
      "|  16|The Secret Life o...|Animation,Adventu...|The quiet life of...|        Chris Renaud|Louis C.K., Eric ...|                2016|               87|   6.6|120259|            368.31|     61.0|\n",
      "|  17|       Hacksaw Ridge|Biography,Drama,H...|WWII American Arm...|          Mel Gibson|Andrew Garfield, ...|                2016|              139|   8.2|211760|             67.12|     71.0|\n",
      "|  18|        Jason Bourne|     Action,Thriller|The CIA's most da...|     Paul Greengrass|Matt Damon, Tommy...|                2016|              123|   6.7|150823|            162.16|     58.0|\n",
      "|  19|                Lion|     Biography,Drama|A five-year-old I...|         Garth Davis|Dev Patel, Nicole...|                2016|              118|   8.1|102061|             51.69|     69.0|\n",
      "|  20|             Arrival|Drama,Mystery,Sci-Fi|When twelve myste...|    Denis Villeneuve|Amy Adams, Jeremy...|                2016|              116|     8|340798|             100.5|     81.0|\n",
      "+----+--------------------+--------------------+--------------------+--------------------+--------------------+--------------------+-----------------+------+------+------------------+---------+\n",
      "only showing top 20 rows\n",
      "\n"
     ]
    }
   ],
   "source": [
    "new.show()"
   ]
  },
  {
   "cell_type": "code",
   "execution_count": 20,
   "id": "1ed0ee39",
   "metadata": {
    "collapsed": true
   },
   "outputs": [
    {
     "name": "stdout",
     "output_type": "stream",
     "text": [
      "root\n",
      " |-- C_CUSTKEY: integer (nullable = true)\n",
      " |-- C_NAME: string (nullable = true)\n",
      " |-- C_ADDRESS: string (nullable = true)\n",
      " |-- C_NATIONKEY: integer (nullable = true)\n",
      " |-- C_PHONE: string (nullable = true)\n",
      " |-- C_ACCTBAL: double (nullable = true)\n",
      " |-- C_MKTSEGMENT: string (nullable = true)\n",
      " |-- C_COMMENT: string (nullable = true)\n",
      "\n"
     ]
    }
   ],
   "source": [
    "# Reading the retail dataset\n",
    "cust = spark.read.option(\"inferSchema\",True).option(\"header\",True).option(\"sep\", '\\t').csv(\"/home/labuser/Downloads/Retail_Dataset/customer.csv\")\n",
    "cust.printSchema()"
   ]
  },
  {
   "cell_type": "code",
   "execution_count": 21,
   "id": "903a2877",
   "metadata": {
    "collapsed": true
   },
   "outputs": [
    {
     "name": "stderr",
     "output_type": "stream",
     "text": [
      "[Stage 12:=============================>                            (1 + 1) / 2]\r"
     ]
    },
    {
     "name": "stdout",
     "output_type": "stream",
     "text": [
      "root\n",
      " |-- L_ORDERKEY: integer (nullable = true)\n",
      " |-- L_PARTKEY: integer (nullable = true)\n",
      " |-- L_SUPPKEY: integer (nullable = true)\n",
      " |-- L_LINENUMBER: integer (nullable = true)\n",
      " |-- L_QUANTITY: double (nullable = true)\n",
      " |-- L_EXTENDEDPRICE: double (nullable = true)\n",
      " |-- L_DISCOUNT: double (nullable = true)\n",
      " |-- L_TAX: double (nullable = true)\n",
      " |-- L_RETURNFLAG: string (nullable = true)\n",
      " |-- L_LINESTATUS: string (nullable = true)\n",
      " |-- L_SHIPDATE: date (nullable = true)\n",
      " |-- L_COMMITDATE: date (nullable = true)\n",
      " |-- L_RECEIPTDATE: date (nullable = true)\n",
      " |-- L_SHIPINSTRUCT: string (nullable = true)\n",
      " |-- L_SHIPMODE: string (nullable = true)\n",
      " |-- L_COMMENT: string (nullable = true)\n",
      "\n"
     ]
    },
    {
     "name": "stderr",
     "output_type": "stream",
     "text": [
      "\r",
      "                                                                                \r"
     ]
    }
   ],
   "source": [
    "line = spark.read.option(\"inferSchema\",True).option(\"header\",True).option(\"sep\", '\\t').csv(\"/home/labuser/Downloads/Retail_Dataset/lineitem.csv\")\n",
    "line.printSchema()"
   ]
  },
  {
   "cell_type": "code",
   "execution_count": 22,
   "id": "5973fdb2",
   "metadata": {
    "collapsed": true
   },
   "outputs": [
    {
     "name": "stdout",
     "output_type": "stream",
     "text": [
      "root\n",
      " |-- N_NATIONKEY: integer (nullable = true)\n",
      " |-- N_NAME: string (nullable = true)\n",
      " |-- N_REGIONKEY: integer (nullable = true)\n",
      " |-- N_COMMENT: string (nullable = true)\n",
      "\n"
     ]
    }
   ],
   "source": [
    "nation = spark.read.option(\"inferSchema\",True).option(\"header\",True).option(\"sep\", '\\t').csv(\"/home/labuser/Downloads/Retail_Dataset/nation.csv\")\n",
    "nation.printSchema()"
   ]
  },
  {
   "cell_type": "code",
   "execution_count": 23,
   "id": "9cb5c994",
   "metadata": {
    "collapsed": true
   },
   "outputs": [
    {
     "name": "stdout",
     "output_type": "stream",
     "text": [
      "root\n",
      " |-- O_ORDERKEY: integer (nullable = true)\n",
      " |-- O_CUSTKEY: integer (nullable = true)\n",
      " |-- O_ORDERSTATUS: string (nullable = true)\n",
      " |-- O_TOTALPRICE: double (nullable = true)\n",
      " |-- O_ORDERDATE: date (nullable = true)\n",
      " |-- O_ORDERPRIORITY: string (nullable = true)\n",
      " |-- O_CLERK: string (nullable = true)\n",
      " |-- O_SHIPPRIORITY: integer (nullable = true)\n",
      " |-- O_COMMENT: string (nullable = true)\n",
      "\n"
     ]
    }
   ],
   "source": [
    "orders = spark.read.option(\"inferSchema\",True).option(\"header\",True).option(\"sep\", '\\t').csv(\"/home/labuser/Downloads/Retail_Dataset/orders.csv\")\n",
    "orders.printSchema()"
   ]
  },
  {
   "cell_type": "code",
   "execution_count": 24,
   "id": "fc0f1691",
   "metadata": {
    "collapsed": true
   },
   "outputs": [
    {
     "name": "stdout",
     "output_type": "stream",
     "text": [
      "root\n",
      " |-- P_PARTKEY: integer (nullable = true)\n",
      " |-- P_NAME: string (nullable = true)\n",
      " |-- P_MFGR: string (nullable = true)\n",
      " |-- P_BRAND: string (nullable = true)\n",
      " |-- P_TYPE: string (nullable = true)\n",
      " |-- P_SIZE: integer (nullable = true)\n",
      " |-- P_CONTAINER: string (nullable = true)\n",
      " |-- P_RETAILPRICE: double (nullable = true)\n",
      " |-- P_COMMENT: string (nullable = true)\n",
      "\n"
     ]
    }
   ],
   "source": [
    "part = spark.read.option(\"inferSchema\",True).option(\"header\",True).option(\"sep\", '\\t').csv(\"/home/labuser/Downloads/Retail_Dataset/part.csv\")\n",
    "part.printSchema()"
   ]
  },
  {
   "cell_type": "code",
   "execution_count": 25,
   "id": "4a92b547",
   "metadata": {
    "collapsed": true
   },
   "outputs": [
    {
     "name": "stdout",
     "output_type": "stream",
     "text": [
      "root\n",
      " |-- PS_PARTKEY: integer (nullable = true)\n",
      " |-- PS_SUPPKEY: integer (nullable = true)\n",
      " |-- PS_AVAILQTY: integer (nullable = true)\n",
      " |-- PS_SUPPLYCOST: double (nullable = true)\n",
      " |-- PS_COMMENT: string (nullable = true)\n",
      "\n"
     ]
    }
   ],
   "source": [
    "partsupp = spark.read.option(\"inferSchema\",True).option(\"header\",True).option(\"sep\", '\\t').csv(\"/home/labuser/Downloads/Retail_Dataset/partsupp.csv\")\n",
    "partsupp.printSchema()"
   ]
  },
  {
   "cell_type": "code",
   "execution_count": 26,
   "id": "dc520982",
   "metadata": {
    "collapsed": true
   },
   "outputs": [
    {
     "name": "stdout",
     "output_type": "stream",
     "text": [
      "root\n",
      " |-- R_REGIONKEY: integer (nullable = true)\n",
      " |-- R_NAME: string (nullable = true)\n",
      " |-- R_COMMENT: string (nullable = true)\n",
      "\n"
     ]
    }
   ],
   "source": [
    "region = spark.read.option(\"inferSchema\",True).option(\"header\",True).option(\"sep\", '\\t').csv(\"/home/labuser/Downloads/Retail_Dataset/region.csv\")\n",
    "region.printSchema()"
   ]
  },
  {
   "cell_type": "code",
   "execution_count": 27,
   "id": "52a4fd7d",
   "metadata": {
    "collapsed": true
   },
   "outputs": [
    {
     "name": "stdout",
     "output_type": "stream",
     "text": [
      "root\n",
      " |-- S_SUPPKEY: integer (nullable = true)\n",
      " |-- S_NAME: string (nullable = true)\n",
      " |-- S_ADDRESS: string (nullable = true)\n",
      " |-- S_NATIONKEY: integer (nullable = true)\n",
      " |-- S_PHONE: string (nullable = true)\n",
      " |-- S_ACCTBAL: double (nullable = true)\n",
      " |-- S_COMMENT: string (nullable = true)\n",
      "\n"
     ]
    }
   ],
   "source": [
    "supplier = spark.read.option(\"inferSchema\",True).option(\"header\",True).option(\"sep\", '\\t').csv(\"/home/labuser/Downloads/Retail_Dataset/supplier.csv\")\n",
    "supplier.printSchema()"
   ]
  },
  {
   "cell_type": "code",
   "execution_count": 28,
   "id": "5ea1bd0b",
   "metadata": {},
   "outputs": [],
   "source": [
    "cusord = cust.join(orders,cust.C_CUSTKEY == orders.O_CUSTKEY, how = \"inner\")"
   ]
  },
  {
   "cell_type": "code",
   "execution_count": 29,
   "id": "b572c730",
   "metadata": {
    "collapsed": true
   },
   "outputs": [
    {
     "name": "stdout",
     "output_type": "stream",
     "text": [
      "+---------+------------------+--------------------+-----------+---------------+---------+------------+--------------------+----------+---------+-------------+------------+-----------+---------------+---------------+--------------+--------------------+\n",
      "|C_CUSTKEY|            C_NAME|           C_ADDRESS|C_NATIONKEY|        C_PHONE|C_ACCTBAL|C_MKTSEGMENT|           C_COMMENT|O_ORDERKEY|O_CUSTKEY|O_ORDERSTATUS|O_TOTALPRICE|O_ORDERDATE|O_ORDERPRIORITY|        O_CLERK|O_SHIPPRIORITY|           O_COMMENT|\n",
      "+---------+------------------+--------------------+-----------+---------------+---------+------------+--------------------+----------+---------+-------------+------------+-----------+---------------+---------------+--------------+--------------------+\n",
      "|      370|Customer#000000370|          oyAPndV IN|         12|22-524-280-8721|  8982.79|   FURNITURE|ges. final packag...|         1|      370|            O|   172799.49| 1996-01-02|          5-LOW|Clerk#000000951|             0|nstructions sleep...|\n",
      "|      781|Customer#000000781|FQCAkyfV0 kL3,FNA...|         18|28-478-388-5881|  6403.62|   MACHINERY|ake blithely blit...|         2|      781|            O|    38426.09| 1996-12-01|       1-URGENT|Clerk#000000880|             0| foxes. pending a...|\n",
      "|     1234|Customer#000001234|B3OhbH0MRJE,F0Lc7...|          1|11-742-434-6436|  -982.32|   FURNITURE|y ironic instruct...|         3|     1234|            F|    205654.3| 1993-10-14|          5-LOW|Clerk#000000955|             0|sly final account...|\n",
      "|     1369|Customer#000001369|rXTwOzU0a2ak4Nj5L...|         10|20-232-617-7418|   498.77|  AUTOMOBILE|ong the ironic id...|         4|     1369|            O|    56000.91| 1995-10-11|          5-LOW|Clerk#000000124|             0|sits. slyly regul...|\n",
      "|      445|Customer#000000445|MX1UA0KUJzIGyWM p...|         20|30-849-846-6070|  8018.81|   FURNITURE|e ironic, special...|         5|      445|            F|   105367.67| 1994-07-30|          5-LOW|Clerk#000000925|             0|quickly. bold dep...|\n",
      "|      557|Customer#000000557|          Nt6FUuDR7v|         15|25-390-153-6699|  9559.04|    BUILDING|furiously pending...|         6|      557|            F|     45523.1| 1992-02-21|4-NOT SPECIFIED|Clerk#000000058|             0|ggle. special, fi...|\n",
      "|      392|Customer#000000392|          H7M6JObndO|         17|27-601-793-2507|  8492.33|    BUILDING|efully bold ideas...|         7|      392|            O|   271885.66| 1996-01-10|         2-HIGH|Clerk#000000470|             0|ly special requests |\n",
      "|     1301|Customer#000001301|oR0kHfL6GWhF VPD,...|         10|20-339-347-9046|  8966.63|   MACHINERY|egular asymptotes...|        32|     1301|            O|   198665.57| 1995-07-16|         2-HIGH|Clerk#000000616|             0|ise blithely bold...|\n",
      "|      670|Customer#000000670|         RJtcLv6Tjpx|          2|12-839-426-4266|  6738.93|    BUILDING|y unusual deposit...|        33|      670|            F|   146567.24| 1993-10-27|       3-MEDIUM|Clerk#000000409|             0|uriously. furious...|\n",
      "|      611|Customer#000000611|E1dtWGHE7NrLfnSKLPFU|         19|29-924-242-5243|  4272.43|   HOUSEHOLD|inst the slyly fi...|        34|      611|            O|    73315.48| 1998-07-21|       3-MEDIUM|Clerk#000000223|             0|ly final packages...|\n",
      "|     1276|Customer#000001276|c5UAVe71MPvmerPaf...|         16|26-809-582-2064|   -761.7|  AUTOMOBILE| the blithely reg...|        35|     1276|            O|   194641.93| 1995-10-23|4-NOT SPECIFIED|Clerk#000000259|             0|zzle. carefully e...|\n",
      "|     1153|Customer#000001153|SYG3KMj1fMh7GwvIZ...|          3|13-319-420-5160|  6244.03|   HOUSEHOLD|s. even packages ...|        36|     1153|            O|    42011.04| 1995-11-03|       1-URGENT|Clerk#000000358|             0| quick packages a...|\n",
      "|      862|Customer#000000862|zkaZ,iOp8t9MBK9T,...|          2|12-479-479-6941|  2338.92|   MACHINERY|yly regular foxes...|        37|      862|            F|   131896.49| 1992-06-03|       3-MEDIUM|Clerk#000000456|             0|kly regular pinto...|\n",
      "|     1249|Customer#000001249|x9ukZnNiUM5pBPXyE...|          7|17-866-269-1165|   448.49|    BUILDING| the ironic packa...|        38|     1249|            O|    71553.08| 1996-08-21|4-NOT SPECIFIED|Clerk#000000604|             0|haggle blithely. ...|\n",
      "|      818|Customer#000000818|CvQvKClYoh9lPjMng...|         20|30-943-141-5174|  -574.39|    BUILDING|yly. blithely fin...|        39|      818|            O|   326565.37| 1996-09-20|       3-MEDIUM|Clerk#000000659|             0|ole express, iron...|\n",
      "|      322|Customer#000000322|       bWRyCyjH5OfGX|         20|30-660-202-7517|  4489.98|   HOUSEHOLD|usual sauternes a...|        64|      322|            F|    35831.73| 1994-07-16|       3-MEDIUM|Clerk#000000661|             0|wake fluffily. so...|\n",
      "|      163|Customer#000000163|      OgrGcOnm4whd0f|         21|31-863-349-4121|  2948.61|   FURNITURE| nag furiously fu...|        65|      163|            P|    95469.44| 1995-03-18|       1-URGENT|Clerk#000000632|             0|ular requests are...|\n",
      "|     1292|Customer#000001292|QVr2XTDOMzWcLKHtN...|         21|31-966-407-1575|  5509.11|    BUILDING|haggle. special f...|        66|     1292|            F|   104190.66| 1994-01-20|          5-LOW|Clerk#000000743|             0|y pending request...|\n",
      "|      568|Customer#000000568|ZddVCnzeABTTBgV3G...|         13|23-603-795-8611|  1317.56|    BUILDING|gular decoys hagg...|        67|      568|            O|   182481.16| 1996-12-19|4-NOT SPECIFIED|Clerk#000000547|             0|symptotes haggle ...|\n",
      "|      286|Customer#000000286|    7 7uVDrpkWuozyEd|         22|32-274-308-4633|  -109.73|   HOUSEHOLD|ly special accoun...|        68|      286|            O|   301968.79| 1998-04-18|       3-MEDIUM|Clerk#000000440|             0| pinto beans slee...|\n",
      "+---------+------------------+--------------------+-----------+---------------+---------+------------+--------------------+----------+---------+-------------+------------+-----------+---------------+---------------+--------------+--------------------+\n",
      "only showing top 20 rows\n",
      "\n"
     ]
    }
   ],
   "source": [
    "cusord.show()"
   ]
  },
  {
   "cell_type": "code",
   "execution_count": 30,
   "id": "b6dfad5a",
   "metadata": {
    "collapsed": true
   },
   "outputs": [
    {
     "name": "stderr",
     "output_type": "stream",
     "text": [
      "\r",
      "[Stage 27:>                                                         (0 + 1) / 1]\r"
     ]
    },
    {
     "name": "stdout",
     "output_type": "stream",
     "text": [
      "+---------------+------------------+\n",
      "|        O_CLERK| sum(O_TOTALPRICE)|\n",
      "+---------------+------------------+\n",
      "|Clerk#000000024|        2078084.41|\n",
      "|Clerk#000000288|        1431028.03|\n",
      "|Clerk#000000236|        2571896.97|\n",
      "|Clerk#000000093|3388791.1500000004|\n",
      "|Clerk#000000124|        1683034.58|\n",
      "|Clerk#000000011|2032237.1699999995|\n",
      "|Clerk#000000114|1596777.3599999999|\n",
      "|Clerk#000000022|         1250757.7|\n",
      "|Clerk#000000474|1669808.3399999999|\n",
      "|Clerk#000000723| 923212.7899999999|\n",
      "|Clerk#000000903|2984974.0700000008|\n",
      "|Clerk#000000398|        1799587.31|\n",
      "|Clerk#000000744|         2078169.2|\n",
      "|Clerk#000000912|1728371.5500000005|\n",
      "|Clerk#000000644|         2357482.5|\n",
      "|Clerk#000000766|        1941942.28|\n",
      "|Clerk#000000674|         941649.11|\n",
      "|Clerk#000000821|2854880.0399999996|\n",
      "|Clerk#000000424|1509396.7800000003|\n",
      "|Clerk#000000087|        1396516.85|\n",
      "+---------------+------------------+\n",
      "only showing top 20 rows\n",
      "\n"
     ]
    },
    {
     "name": "stderr",
     "output_type": "stream",
     "text": [
      "\r",
      "                                                                                \r"
     ]
    }
   ],
   "source": [
    "grpdf = orders.groupBy(\"O_CLERK\").sum(\"O_TOTALPRICE\")\n",
    "grpdf.show()"
   ]
  },
  {
   "cell_type": "code",
   "execution_count": 35,
   "id": "ab6d7eeb",
   "metadata": {},
   "outputs": [
    {
     "data": {
      "text/plain": [
       "1"
      ]
     },
     "execution_count": 35,
     "metadata": {},
     "output_type": "execute_result"
    }
   ],
   "source": [
    "cusord.rdd.getNumPartitions()"
   ]
  },
  {
   "cell_type": "code",
   "execution_count": 32,
   "id": "a613ea9b",
   "metadata": {},
   "outputs": [
    {
     "data": {
      "text/plain": [
       "MapPartitionsRDD[158] at coalesce at NativeMethodAccessorImpl.java:0"
      ]
     },
     "execution_count": 32,
     "metadata": {},
     "output_type": "execute_result"
    }
   ],
   "source": [
    "cusord.repartition(8)"
   ]
  },
  {
   "cell_type": "code",
   "execution_count": 33,
   "id": "9736f449",
   "metadata": {},
   "outputs": [
    {
     "name": "stderr",
     "output_type": "stream",
     "text": [
      "                                                                                \r"
     ]
    }
   ],
   "source": [
    "cusord.write.mode(\"append\").csv(\"/home/labuser/Downloads/output\")"
   ]
  },
  {
   "cell_type": "code",
   "execution_count": 34,
   "id": "346d35f6",
   "metadata": {},
   "outputs": [
    {
     "name": "stderr",
     "output_type": "stream",
     "text": [
      "                                                                                \r"
     ]
    }
   ],
   "source": [
    "cusord.write.mode(\"append\").parquet(\"/home/labuser/Downloads/output1\")"
   ]
  },
  {
   "cell_type": "code",
   "execution_count": 36,
   "id": "949c8eb8",
   "metadata": {
    "collapsed": true
   },
   "outputs": [
    {
     "name": "stderr",
     "output_type": "stream",
     "text": [
      "\r",
      "[Stage 36:>                                                         (0 + 1) / 1]\r"
     ]
    },
    {
     "data": {
      "text/plain": [
       "8"
      ]
     },
     "execution_count": 36,
     "metadata": {},
     "output_type": "execute_result"
    }
   ],
   "source": [
    "test = cusord.repartition(8)\n",
    "test.rdd.getNumPartitions()"
   ]
  },
  {
   "cell_type": "code",
   "execution_count": 38,
   "id": "274d2995",
   "metadata": {
    "scrolled": true
   },
   "outputs": [
    {
     "name": "stderr",
     "output_type": "stream",
     "text": [
      "                                                                                \r"
     ]
    }
   ],
   "source": [
    "test.write.mode(\"append\").parquet(\"/home/labuser/Downloads/output2/\")"
   ]
  },
  {
   "cell_type": "code",
   "execution_count": 40,
   "id": "949fd4d7",
   "metadata": {},
   "outputs": [],
   "source": [
    "test.coalesce(1).write.mode(\"append\").parquet(\"/home/labuser/Downloads/output3/\")"
   ]
  },
  {
   "cell_type": "code",
   "execution_count": 5,
   "id": "b3548b3d",
   "metadata": {},
   "outputs": [],
   "source": [
    "test_df = [(\"James\",\"Sales\",\"NY\",90000,34,10000),\n",
    "    (\"Michael\",\"Sales\",\"NY\",86000,56,20000),\n",
    "    (\"Robert\",\"Sales\",\"CA\",81000,30,23000),\n",
    "    (\"Maria\",\"Finance\",\"CA\",90000,24,23000),\n",
    "    (\"Raman\",\"Finance\",\"CA\",99000,40,24000),\n",
    "    (\"Scott\",\"Finance\",\"NY\",83000,36,19000),\n",
    "    (\"Jen\",\"Finance\",\"NY\",79000,53,15000),\n",
    "    (\"Jeff\",\"Marketing\",\"CA\",80000,25,18000),\n",
    "    (\"Kumar\",\"Marketing\",\"NY\",91000,50,21000)\n",
    "  ]"
   ]
  },
  {
   "cell_type": "code",
   "execution_count": 6,
   "id": "c176d429",
   "metadata": {},
   "outputs": [],
   "source": [
    "ud_scehma = [\"employee_name\",\"department\",\"state\",\"salary\",\"age\",\"bonus\"]"
   ]
  },
  {
   "cell_type": "code",
   "execution_count": 7,
   "id": "65c64001",
   "metadata": {},
   "outputs": [],
   "source": [
    "df = spark.createDataFrame(data=test_df,schema = ud_scehma)"
   ]
  },
  {
   "cell_type": "code",
   "execution_count": 8,
   "id": "d4b9fbad",
   "metadata": {},
   "outputs": [
    {
     "name": "stderr",
     "output_type": "stream",
     "text": [
      "                                                                                \r"
     ]
    },
    {
     "data": {
      "text/plain": [
       "9"
      ]
     },
     "execution_count": 8,
     "metadata": {},
     "output_type": "execute_result"
    }
   ],
   "source": [
    "df.cache().count()"
   ]
  },
  {
   "cell_type": "code",
   "execution_count": 12,
   "id": "15af5020",
   "metadata": {},
   "outputs": [],
   "source": [
    "from pyspark import StorageLevel"
   ]
  },
  {
   "cell_type": "code",
   "execution_count": 17,
   "id": "e73842d8",
   "metadata": {},
   "outputs": [],
   "source": [
    "test = StorageLevel(useDisk=False,useMemory=True,useOffHeap=False,deserialized=False,replication=2)"
   ]
  },
  {
   "cell_type": "code",
   "execution_count": 13,
   "id": "3632b797",
   "metadata": {},
   "outputs": [
    {
     "name": "stderr",
     "output_type": "stream",
     "text": [
      "23/09/25 04:27:59 WARN CacheManager: Asked to cache already cached data.\n"
     ]
    },
    {
     "data": {
      "text/plain": [
       "DataFrame[employee_name: string, department: string, state: string, salary: bigint, age: bigint, bonus: bigint]"
      ]
     },
     "execution_count": 13,
     "metadata": {},
     "output_type": "execute_result"
    }
   ],
   "source": [
    "df.persist(StorageLevel.MEMORY_AND_DISK)"
   ]
  },
  {
   "cell_type": "code",
   "execution_count": 10,
   "id": "770eedc4",
   "metadata": {
    "scrolled": true
   },
   "outputs": [
    {
     "name": "stdout",
     "output_type": "stream",
     "text": [
      "+-------------+----------+-----+------+---+-----+\n",
      "|employee_name|department|state|salary|age|bonus|\n",
      "+-------------+----------+-----+------+---+-----+\n",
      "|        James|     Sales|   NY| 90000| 34|10000|\n",
      "|      Michael|     Sales|   NY| 86000| 56|20000|\n",
      "|       Robert|     Sales|   CA| 81000| 30|23000|\n",
      "|        Maria|   Finance|   CA| 90000| 24|23000|\n",
      "|        Raman|   Finance|   CA| 99000| 40|24000|\n",
      "|        Scott|   Finance|   NY| 83000| 36|19000|\n",
      "|          Jen|   Finance|   NY| 79000| 53|15000|\n",
      "|         Jeff| Marketing|   CA| 80000| 25|18000|\n",
      "|        Kumar| Marketing|   NY| 91000| 50|21000|\n",
      "+-------------+----------+-----+------+---+-----+\n",
      "\n"
     ]
    }
   ],
   "source": [
    "df.show()"
   ]
  },
  {
   "cell_type": "code",
   "execution_count": 14,
   "id": "1970d9ff",
   "metadata": {},
   "outputs": [
    {
     "data": {
      "text/plain": [
       "DataFrame[employee_name: string, department: string, state: string, salary: bigint, age: bigint, bonus: bigint]"
      ]
     },
     "execution_count": 14,
     "metadata": {},
     "output_type": "execute_result"
    }
   ],
   "source": [
    "df.unpersist()"
   ]
  },
  {
   "cell_type": "code",
   "execution_count": 18,
   "id": "4839e76a",
   "metadata": {},
   "outputs": [
    {
     "data": {
      "text/plain": [
       "DataFrame[employee_name: string, department: string, state: string, salary: bigint, age: bigint, bonus: bigint]"
      ]
     },
     "execution_count": 18,
     "metadata": {},
     "output_type": "execute_result"
    }
   ],
   "source": [
    "df.persist(storageLevel = test)"
   ]
  },
  {
   "cell_type": "code",
   "execution_count": 19,
   "id": "547d5785",
   "metadata": {},
   "outputs": [
    {
     "name": "stdout",
     "output_type": "stream",
     "text": [
      "3.11.4 (main, Jul  5 2023, 14:15:25) [GCC 11.2.0]\n"
     ]
    }
   ],
   "source": [
    "import sys\n",
    "print(sys.version)"
   ]
  },
  {
   "cell_type": "code",
   "execution_count": null,
   "id": "91b0dbde",
   "metadata": {},
   "outputs": [],
   "source": [
    "# To solve Spark Version Error:\n",
    "#import os\n",
    "#import sys\n",
    "\n",
    "#os.environ['PYSPARK_PYTHON'] = sys.executable\n",
    "#os.environ['PYSPARK_DRIVER_PYTHON'] = sys.executable"
   ]
  },
  {
   "cell_type": "code",
   "execution_count": 21,
   "id": "bc002cf6",
   "metadata": {},
   "outputs": [
    {
     "name": "stdout",
     "output_type": "stream",
     "text": [
      "+-----+-----------+\n",
      "|state|max(salary)|\n",
      "+-----+-----------+\n",
      "|   CA|      99000|\n",
      "|   NY|      91000|\n",
      "+-----+-----------+\n",
      "\n"
     ]
    }
   ],
   "source": [
    "df.groupBy('state').max(\"salary\").alias(\"max_sal_by_state\").show()"
   ]
  },
  {
   "cell_type": "code",
   "execution_count": 23,
   "id": "4d616f87",
   "metadata": {},
   "outputs": [
    {
     "name": "stdout",
     "output_type": "stream",
     "text": [
      "+----------+----------+-----------------+\n",
      "|department|sum_salary|       avg_salary|\n",
      "+----------+----------+-----------------+\n",
      "|     Sales|    257000|85666.66666666667|\n",
      "|   Finance|    351000|          87750.0|\n",
      "| Marketing|    171000|          85500.0|\n",
      "+----------+----------+-----------------+\n",
      "\n"
     ]
    }
   ],
   "source": [
    "df.groupBy(\"department\",\"state\").agg(sum(\"salary\").alias(\"sum_salary\"),avg(\"salary\").alias(\"avg_salary\")).where(col(\"avg_salary\")>80000).show()"
   ]
  },
  {
   "cell_type": "code",
   "execution_count": 24,
   "id": "1bd24960",
   "metadata": {},
   "outputs": [],
   "source": [
    "df.createOrReplaceTempView(\"ida\")"
   ]
  },
  {
   "cell_type": "code",
   "execution_count": 26,
   "id": "3da9b3b4",
   "metadata": {},
   "outputs": [
    {
     "data": {
      "text/plain": [
       "DataFrame[employee_name: string, department: string, state: string, salary: bigint, age: bigint, bonus: bigint]"
      ]
     },
     "execution_count": 26,
     "metadata": {},
     "output_type": "execute_result"
    }
   ],
   "source": [
    "spark.sql(\"select * FROM ida\")"
   ]
  },
  {
   "cell_type": "code",
   "execution_count": 31,
   "id": "02edaf0e",
   "metadata": {},
   "outputs": [
    {
     "data": {
      "text/plain": [
       "DataFrame[]"
      ]
     },
     "execution_count": 31,
     "metadata": {},
     "output_type": "execute_result"
    }
   ],
   "source": [
    "spark.sql(\"CREATE DATABASE idashell\")"
   ]
  },
  {
   "cell_type": "code",
   "execution_count": 32,
   "id": "39f07f2e",
   "metadata": {},
   "outputs": [
    {
     "data": {
      "text/plain": [
       "DataFrame[]"
      ]
     },
     "execution_count": 32,
     "metadata": {},
     "output_type": "execute_result"
    }
   ],
   "source": [
    "spark.sql(\"use idashell\")"
   ]
  },
  {
   "cell_type": "code",
   "execution_count": 33,
   "id": "ab4de088",
   "metadata": {},
   "outputs": [],
   "source": [
    "df.write.saveAsTable(\"test_tbl\")"
   ]
  },
  {
   "cell_type": "code",
   "execution_count": 34,
   "id": "17693c23",
   "metadata": {},
   "outputs": [],
   "source": [
    "test = spark.sql(\"DESCRIBE test_tbl\")"
   ]
  },
  {
   "cell_type": "code",
   "execution_count": 35,
   "id": "63ec18e8",
   "metadata": {},
   "outputs": [
    {
     "name": "stdout",
     "output_type": "stream",
     "text": [
      "+-------------+---------+-------+\n",
      "|     col_name|data_type|comment|\n",
      "+-------------+---------+-------+\n",
      "|employee_name|   string|   null|\n",
      "|   department|   string|   null|\n",
      "|        state|   string|   null|\n",
      "|       salary|   bigint|   null|\n",
      "|          age|   bigint|   null|\n",
      "|        bonus|   bigint|   null|\n",
      "+-------------+---------+-------+\n",
      "\n"
     ]
    }
   ],
   "source": [
    "test.show()"
   ]
  },
  {
   "cell_type": "code",
   "execution_count": 36,
   "id": "611dc9b2",
   "metadata": {},
   "outputs": [
    {
     "name": "stdout",
     "output_type": "stream",
     "text": [
      "+--------------------+--------------------+-------+\n",
      "|            col_name|           data_type|comment|\n",
      "+--------------------+--------------------+-------+\n",
      "|       employee_name|              string|   null|\n",
      "|          department|              string|   null|\n",
      "|               state|              string|   null|\n",
      "|              salary|              bigint|   null|\n",
      "|                 age|              bigint|   null|\n",
      "|               bonus|              bigint|   null|\n",
      "|                    |                    |       |\n",
      "|# Detailed Table ...|                    |       |\n",
      "|             Catalog|       spark_catalog|       |\n",
      "|            Database|            idashell|       |\n",
      "|               Table|            test_tbl|       |\n",
      "|        Created Time|Mon Sep 25 05:29:...|       |\n",
      "|         Last Access|             UNKNOWN|       |\n",
      "|          Created By|         Spark 3.4.1|       |\n",
      "|                Type|             MANAGED|       |\n",
      "|            Provider|             parquet|       |\n",
      "|            Location|file:/home/labuse...|       |\n",
      "+--------------------+--------------------+-------+\n",
      "\n"
     ]
    }
   ],
   "source": [
    "test1 = spark.sql(\"DESCRIBE EXTENDED test_tbl\")\n",
    "test1.show()"
   ]
  },
  {
   "cell_type": "code",
   "execution_count": 37,
   "id": "fc45872c",
   "metadata": {},
   "outputs": [],
   "source": [
    "df.write.option(\"path\",\"/home/labuser/Documents/table_data\").saveAsTable(\"e_emptbl\")"
   ]
  },
  {
   "cell_type": "code",
   "execution_count": 38,
   "id": "04371a62",
   "metadata": {
    "scrolled": false
   },
   "outputs": [
    {
     "name": "stdout",
     "output_type": "stream",
     "text": [
      "+--------------------+--------------------+-------+\n",
      "|            col_name|           data_type|comment|\n",
      "+--------------------+--------------------+-------+\n",
      "|       employee_name|              string|   null|\n",
      "|          department|              string|   null|\n",
      "|               state|              string|   null|\n",
      "|              salary|              bigint|   null|\n",
      "|                 age|              bigint|   null|\n",
      "|               bonus|              bigint|   null|\n",
      "|                    |                    |       |\n",
      "|# Detailed Table ...|                    |       |\n",
      "|             Catalog|       spark_catalog|       |\n",
      "|            Database|            idashell|       |\n",
      "|               Table|            e_emptbl|       |\n",
      "|        Created Time|Mon Sep 25 05:32:...|       |\n",
      "|         Last Access|             UNKNOWN|       |\n",
      "|          Created By|         Spark 3.4.1|       |\n",
      "|                Type|            EXTERNAL|       |\n",
      "|            Provider|             parquet|       |\n",
      "|            Location|file:///home/labu...|       |\n",
      "+--------------------+--------------------+-------+\n",
      "\n"
     ]
    }
   ],
   "source": [
    "test01 = spark.sql(\"DESCRIBE EXTENDED e_emptbl\")\n",
    "test01.show()"
   ]
  },
  {
   "cell_type": "code",
   "execution_count": null,
   "id": "1eaa963d",
   "metadata": {},
   "outputs": [],
   "source": [
    "managed -> emp_tbl\n",
    "ext table -> e_emp_tbl"
   ]
  },
  {
   "cell_type": "code",
   "execution_count": 39,
   "id": "4b90c3ef",
   "metadata": {},
   "outputs": [
    {
     "data": {
      "text/plain": [
       "DataFrame[]"
      ]
     },
     "execution_count": 39,
     "metadata": {},
     "output_type": "execute_result"
    }
   ],
   "source": [
    "spark.sql(\"drop table default.emp_tbl\")"
   ]
  },
  {
   "cell_type": "code",
   "execution_count": 41,
   "id": "a144af2c",
   "metadata": {
    "collapsed": true
   },
   "outputs": [
    {
     "ename": "AnalysisException",
     "evalue": "[TABLE_OR_VIEW_NOT_FOUND] The table or view `spark_catalog`.`idashell`.`e_emp_tbl` cannot be found. Verify the spelling and correctness of the schema and catalog.\nIf you did not qualify the name with a schema, verify the current_schema() output, or qualify the name with the correct schema and catalog.\nTo tolerate the error on drop use DROP VIEW IF EXISTS or DROP TABLE IF EXISTS.",
     "output_type": "error",
     "traceback": [
      "\u001b[0;31m---------------------------------------------------------------------------\u001b[0m",
      "\u001b[0;31mAnalysisException\u001b[0m                         Traceback (most recent call last)",
      "Cell \u001b[0;32mIn[41], line 1\u001b[0m\n\u001b[0;32m----> 1\u001b[0m spark\u001b[38;5;241m.\u001b[39msql(\u001b[38;5;124m\"\u001b[39m\u001b[38;5;124mdrop table idashell.e_emp_tbl\u001b[39m\u001b[38;5;124m\"\u001b[39m)\n",
      "File \u001b[0;32m/opt/anaconda3/lib/python3.11/site-packages/pyspark/sql/session.py:1440\u001b[0m, in \u001b[0;36mSparkSession.sql\u001b[0;34m(self, sqlQuery, args, **kwargs)\u001b[0m\n\u001b[1;32m   1438\u001b[0m \u001b[38;5;28;01mtry\u001b[39;00m:\n\u001b[1;32m   1439\u001b[0m     litArgs \u001b[38;5;241m=\u001b[39m {k: _to_java_column(lit(v)) \u001b[38;5;28;01mfor\u001b[39;00m k, v \u001b[38;5;129;01min\u001b[39;00m (args \u001b[38;5;129;01mor\u001b[39;00m {})\u001b[38;5;241m.\u001b[39mitems()}\n\u001b[0;32m-> 1440\u001b[0m     \u001b[38;5;28;01mreturn\u001b[39;00m DataFrame(\u001b[38;5;28mself\u001b[39m\u001b[38;5;241m.\u001b[39m_jsparkSession\u001b[38;5;241m.\u001b[39msql(sqlQuery, litArgs), \u001b[38;5;28mself\u001b[39m)\n\u001b[1;32m   1441\u001b[0m \u001b[38;5;28;01mfinally\u001b[39;00m:\n\u001b[1;32m   1442\u001b[0m     \u001b[38;5;28;01mif\u001b[39;00m \u001b[38;5;28mlen\u001b[39m(kwargs) \u001b[38;5;241m>\u001b[39m \u001b[38;5;241m0\u001b[39m:\n",
      "File \u001b[0;32m/opt/anaconda3/lib/python3.11/site-packages/pyspark/python/lib/py4j-0.10.9.7-src.zip/py4j/java_gateway.py:1322\u001b[0m, in \u001b[0;36mJavaMember.__call__\u001b[0;34m(self, *args)\u001b[0m\n\u001b[1;32m   1316\u001b[0m command \u001b[38;5;241m=\u001b[39m proto\u001b[38;5;241m.\u001b[39mCALL_COMMAND_NAME \u001b[38;5;241m+\u001b[39m\\\n\u001b[1;32m   1317\u001b[0m     \u001b[38;5;28mself\u001b[39m\u001b[38;5;241m.\u001b[39mcommand_header \u001b[38;5;241m+\u001b[39m\\\n\u001b[1;32m   1318\u001b[0m     args_command \u001b[38;5;241m+\u001b[39m\\\n\u001b[1;32m   1319\u001b[0m     proto\u001b[38;5;241m.\u001b[39mEND_COMMAND_PART\n\u001b[1;32m   1321\u001b[0m answer \u001b[38;5;241m=\u001b[39m \u001b[38;5;28mself\u001b[39m\u001b[38;5;241m.\u001b[39mgateway_client\u001b[38;5;241m.\u001b[39msend_command(command)\n\u001b[0;32m-> 1322\u001b[0m return_value \u001b[38;5;241m=\u001b[39m get_return_value(\n\u001b[1;32m   1323\u001b[0m     answer, \u001b[38;5;28mself\u001b[39m\u001b[38;5;241m.\u001b[39mgateway_client, \u001b[38;5;28mself\u001b[39m\u001b[38;5;241m.\u001b[39mtarget_id, \u001b[38;5;28mself\u001b[39m\u001b[38;5;241m.\u001b[39mname)\n\u001b[1;32m   1325\u001b[0m \u001b[38;5;28;01mfor\u001b[39;00m temp_arg \u001b[38;5;129;01min\u001b[39;00m temp_args:\n\u001b[1;32m   1326\u001b[0m     \u001b[38;5;28;01mif\u001b[39;00m \u001b[38;5;28mhasattr\u001b[39m(temp_arg, \u001b[38;5;124m\"\u001b[39m\u001b[38;5;124m_detach\u001b[39m\u001b[38;5;124m\"\u001b[39m):\n",
      "File \u001b[0;32m/opt/anaconda3/lib/python3.11/site-packages/pyspark/errors/exceptions/captured.py:175\u001b[0m, in \u001b[0;36mcapture_sql_exception.<locals>.deco\u001b[0;34m(*a, **kw)\u001b[0m\n\u001b[1;32m    171\u001b[0m converted \u001b[38;5;241m=\u001b[39m convert_exception(e\u001b[38;5;241m.\u001b[39mjava_exception)\n\u001b[1;32m    172\u001b[0m \u001b[38;5;28;01mif\u001b[39;00m \u001b[38;5;129;01mnot\u001b[39;00m \u001b[38;5;28misinstance\u001b[39m(converted, UnknownException):\n\u001b[1;32m    173\u001b[0m     \u001b[38;5;66;03m# Hide where the exception came from that shows a non-Pythonic\u001b[39;00m\n\u001b[1;32m    174\u001b[0m     \u001b[38;5;66;03m# JVM exception message.\u001b[39;00m\n\u001b[0;32m--> 175\u001b[0m     \u001b[38;5;28;01mraise\u001b[39;00m converted \u001b[38;5;28;01mfrom\u001b[39;00m \u001b[38;5;28;01mNone\u001b[39;00m\n\u001b[1;32m    176\u001b[0m \u001b[38;5;28;01melse\u001b[39;00m:\n\u001b[1;32m    177\u001b[0m     \u001b[38;5;28;01mraise\u001b[39;00m\n",
      "\u001b[0;31mAnalysisException\u001b[0m: [TABLE_OR_VIEW_NOT_FOUND] The table or view `spark_catalog`.`idashell`.`e_emp_tbl` cannot be found. Verify the spelling and correctness of the schema and catalog.\nIf you did not qualify the name with a schema, verify the current_schema() output, or qualify the name with the correct schema and catalog.\nTo tolerate the error on drop use DROP VIEW IF EXISTS or DROP TABLE IF EXISTS."
     ]
    }
   ],
   "source": [
    "spark.sql(\"drop table idashell.e_emp_tbl\")"
   ]
  },
  {
   "cell_type": "code",
   "execution_count": 42,
   "id": "adccdbc2",
   "metadata": {},
   "outputs": [
    {
     "name": "stderr",
     "output_type": "stream",
     "text": [
      "\r",
      "[Stage 14:>                                                         (0 + 2) / 2]\r",
      "\r",
      "                                                                                \r"
     ]
    }
   ],
   "source": [
    "df.write.csv(\"/home/labuser/testcontainer/\")"
   ]
  },
  {
   "cell_type": "code",
   "execution_count": 44,
   "id": "4d148c85",
   "metadata": {},
   "outputs": [],
   "source": [
    "df.write.partitionBy(\"state\",\"department\").csv(\"/home/labuser/test1/\")"
   ]
  },
  {
   "cell_type": "code",
   "execution_count": 46,
   "id": "96a01623",
   "metadata": {},
   "outputs": [],
   "source": [
    "def f(df):\n",
    "    print(df.state)"
   ]
  },
  {
   "cell_type": "code",
   "execution_count": 47,
   "id": "c457cbc4",
   "metadata": {},
   "outputs": [
    {
     "name": "stderr",
     "output_type": "stream",
     "text": [
      "NY\n",
      "NY\n",
      "CA\n",
      "CA\n",
      "CA\n",
      "NY\n",
      "NY\n",
      "CA\n",
      "NY\n"
     ]
    }
   ],
   "source": [
    "test = df.foreach(f)"
   ]
  },
  {
   "cell_type": "code",
   "execution_count": null,
   "id": "b5791034",
   "metadata": {},
   "outputs": [],
   "source": [
    "json_data = [\n",
    "    '{\"name\": \"Alice\", \"age\": 25}',\n",
    "    '{\"name\": \"Bob\", \"age\": 30}',\n",
    "    '{\"name\": \"Charlie\", \"age\": 35}'\n",
    "]"
   ]
  },
  {
   "cell_type": "code",
   "execution_count": null,
   "id": "82ab5683",
   "metadata": {},
   "outputs": [],
   "source": [
    "from pyspark.sql.types import *\n",
    "\n",
    "schema = StructType([\n",
    "    StructField(\"name\", StringType(), True),\n",
    "    StructField(\"age\", IntegerType(), True)\n",
    "])"
   ]
  },
  {
   "cell_type": "code",
   "execution_count": null,
   "id": "d3e316f0",
   "metadata": {},
   "outputs": [],
   "source": [
    "df = spark.read.schema(schema).json(sc.parallelize(json_data))"
   ]
  },
  {
   "cell_type": "code",
   "execution_count": null,
   "id": "0f9a5005",
   "metadata": {},
   "outputs": [],
   "source": [
    "json_data = [\n",
    "    '{\"name\": \"Alice\", \"age\": 25, \"address\": {\"city\": \"New York\", \"state\": \"NY\"}}',\n",
    "    '{\"name\": \"Bob\", \"age\": 30, \"address\": {\"city\": \"San Francisco\", \"state\": \"CA\"}}',\n",
    "    '{\"name\": \"Charlie\", \"age\": 35, \"address\": {\"city\": \"Los Angeles\", \"state\": \"CA\"}}'\n",
    "]"
   ]
  },
  {
   "cell_type": "code",
   "execution_count": null,
   "id": "e7f35bba",
   "metadata": {},
   "outputs": [],
   "source": [
    "schemanest = StructType([\n",
    "    StructField(\"name\", StringType(), True),\n",
    "    StructField(\"age\", IntegerType(), True),\n",
    "    StructField(\"address\", StructType([\n",
    "        StructField(\"city\", StringType(), True),\n",
    "        StructField(\"state\", StringType(), True)\n",
    "    ]), True)\n",
    "])"
   ]
  },
  {
   "cell_type": "code",
   "execution_count": null,
   "id": "1a355ec6",
   "metadata": {},
   "outputs": [],
   "source": [
    "df = spark.read.schema(schemanest).json(sc.parallelize(json_data))"
   ]
  }
 ],
 "metadata": {
  "kernelspec": {
   "display_name": "Python 3 (ipykernel)",
   "language": "python",
   "name": "python3"
  },
  "language_info": {
   "codemirror_mode": {
    "name": "ipython",
    "version": 3
   },
   "file_extension": ".py",
   "mimetype": "text/x-python",
   "name": "python",
   "nbconvert_exporter": "python",
   "pygments_lexer": "ipython3",
   "version": "3.11.4"
  }
 },
 "nbformat": 4,
 "nbformat_minor": 5
}
